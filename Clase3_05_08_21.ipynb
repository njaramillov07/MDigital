{
  "nbformat": 4,
  "nbformat_minor": 0,
  "metadata": {
    "colab": {
      "name": "Clase3 05_08_21.ipynb",
      "provenance": [],
      "authorship_tag": "ABX9TyPX54MebqkOOtyS0of4reNv",
      "include_colab_link": true
    },
    "kernelspec": {
      "name": "python3",
      "display_name": "Python 3"
    },
    "language_info": {
      "name": "python"
    }
  },
  "cells": [
    {
      "cell_type": "markdown",
      "metadata": {
        "id": "view-in-github",
        "colab_type": "text"
      },
      "source": [
        "<a href=\"https://colab.research.google.com/github/njaramillov07/MDigital/blob/main/Clase3_05_08_21.ipynb\" target=\"_parent\"><img src=\"https://colab.research.google.com/assets/colab-badge.svg\" alt=\"Open In Colab\"/></a>"
      ]
    },
    {
      "cell_type": "markdown",
      "metadata": {
        "id": "1eWA8GojLJsS"
      },
      "source": [
        "**Estructuras de Condicionales(Contro)**\n",
        "\n",
        "---\n",
        "Al momento de construir una instruccion de tipo condicional se debera comprender que dichas instrucciones estan diseñadas para ayudar en la toma de decisiones:\n",
        "\n",
        "**Ejemplo:**\n",
        "\n",
        "**Si** Pedro va a la tienda por la izquierda llegara mas rapido, sino, se demorará más.\n",
        "\n",
        "Existen varios tipos de instrucciones, algunos pueden ser simples y otros multiples. Sin embargo, solo se generan dos resultados.\n",
        "1. Verdadero\n",
        "2.Falso\n",
        "\n",
        "En Python tales resultados seran True o False.\n"
      ]
    },
    {
      "cell_type": "markdown",
      "metadata": {
        "id": "xojcLyocNFKW"
      },
      "source": [
        "Para aplicar estos condicionales que veremos a continuacion debemos recordar los comandos de operadores matematicos vistos en la clase anterior:\n",
        "1. Igualdad (==) // 12==7 // False\n",
        "2. Diferencia (!=) // rosado!=verde // True\n",
        "3. Menor que (<) // 12<11 // False\n",
        "4. Mayor que (>) // 1>1.5 // False\n",
        "5. Menor o Igual que (<=) // 30<=30 // True\n",
        "6. Mayor o Igual que (>=) // 1>=2 // False"
      ]
    },
    {
      "cell_type": "code",
      "metadata": {
        "id": "5ujAmXfUOAky"
      },
      "source": [
        ""
      ],
      "execution_count": null,
      "outputs": []
    }
  ]
}