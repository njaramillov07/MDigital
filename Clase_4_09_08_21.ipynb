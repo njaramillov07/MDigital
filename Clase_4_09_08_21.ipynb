{
  "nbformat": 4,
  "nbformat_minor": 0,
  "metadata": {
    "colab": {
      "name": "Clase 4 09/08/21.ipynb",
      "provenance": [],
      "authorship_tag": "ABX9TyMF1bMN72D7sxiP46+OYfYc",
      "include_colab_link": true
    },
    "kernelspec": {
      "name": "python3",
      "display_name": "Python 3"
    },
    "language_info": {
      "name": "python"
    }
  },
  "cells": [
    {
      "cell_type": "markdown",
      "metadata": {
        "id": "view-in-github",
        "colab_type": "text"
      },
      "source": [
        "<a href=\"https://colab.research.google.com/github/njaramillov07/MDigital/blob/main/Clase_4_09_08_21.ipynb\" target=\"_parent\"><img src=\"https://colab.research.google.com/assets/colab-badge.svg\" alt=\"Open In Colab\"/></a>"
      ]
    },
    {
      "cell_type": "markdown",
      "metadata": {
        "id": "f09cQflym_-5"
      },
      "source": [
        "**Continuacion de estructuras de control iterativas**\n",
        "\n",
        "\n",
        "---\n",
        "**ACUMULADORES**\n",
        "\n",
        "Se le da este nombre a las variables que se encargan de \"almacenar\" algun tipo de informacion.\n",
        "\n",
        "**Ejemplo:** caso de la compra de viveres en la tienda.\n"
      ]
    },
    {
      "cell_type": "code",
      "metadata": {
        "colab": {
          "base_uri": "https://localhost:8080/"
        },
        "id": "hQohpSPpknuU",
        "outputId": "5ece1bf0-f9d8-4fa7-edd4-4fd385f53896"
      },
      "source": [
        "nombre=input(\"Nombre del Consumidor\")\n",
        "listacomp=\"\"\n",
        "print(nombre, \"escribe los siguientes viveres para su compra en el supermercado:\")\n",
        "listacomp=listacomp+\"1 Paca de papel higienico\"\n",
        "print(\"----Compras que tengo que hacer----\")\n",
        "print(listacomp)\n",
        "listacomp=listacomp+\"Shampoo pantene 2 en 1\"\n",
        "print(listacomp)"
      ],
      "execution_count": 3,
      "outputs": [
        {
          "output_type": "stream",
          "text": [
            "Nombre del ConsumidorSandra\n",
            "Sandra escribe los siguientes viveres para su compra en el supermercado:\n",
            "----Compras que tengo que hacer----\n",
            "1 Paca de papel higienico\n",
            "1 Paca de papel higienicoShampoo pantene 2 en 1\n"
          ],
          "name": "stdout"
        }
      ]
    },
    {
      "cell_type": "markdown",
      "metadata": {
        "id": "Zs2x0Zk8p6VX"
      },
      "source": [
        "**Opion 2**"
      ]
    },
    {
      "cell_type": "code",
      "metadata": {
        "colab": {
          "base_uri": "https://localhost:8080/"
        },
        "id": "AXqA5qkepnDJ",
        "outputId": "7b47f0e6-103e-4ee5-f517-658a9e26d311"
      },
      "source": [
        "nombre=input(\"Nombre del Consumidor\")\n",
        "listacomp=\"\"\n",
        "print(nombre, \"escribe los siguientes viveres para su compra en el supermercado:\")\n",
        "listacomp=listacomp+\"1 Paca de papel higienico\"\n",
        "print(\"----Compras que tengo que hacer----\")\n",
        "listacomp=listacomp+\", Shampoo pantene 2 en 1\"\n",
        "listacomp=listacomp+\", 2 pacas de pañales pequeñin etapa 3\"\n",
        "\n",
        "print(listacomp)"
      ],
      "execution_count": 5,
      "outputs": [
        {
          "output_type": "stream",
          "text": [
            "Nombre del ConsumidorSandra\n",
            "Sandra escribe los siguientes viveres para su compra en el supermercado:\n",
            "----Compras que tengo que hacer----\n",
            "1 Paca de papel higienico, Shampoo pantene 2 en 1, 2 pacas de pañales pequeñin etapa 3\n"
          ],
          "name": "stdout"
        }
      ]
    },
    {
      "cell_type": "markdown",
      "metadata": {
        "id": "NJHWTYc6p_ek"
      },
      "source": [
        "La variable \"listacomp\" nos esta sirviendo para acumular información de la lista compras.\n",
        "Podemos observar, que **NO** estamos creando una variable por cada item, sino una variable definida que nos sirve para almacenar infomacion.\n",
        "\n",
        "A continiacion observemos un ejemplo donde se ponga en practica el uso de la acumulacion en una variable usando cantidades y precio."
      ]
    },
    {
      "cell_type": "code",
      "metadata": {
        "colab": {
          "base_uri": "https://localhost:8080/"
        },
        "id": "LieKFTB7qm2N",
        "outputId": "00cff075-3228-429a-eabd-b5b86e712849"
      },
      "source": [
        "ppph=14000 ##precio de paca de papel higienico\n",
        "cpph=2 ##Cantidad de papel higienico\n",
        "pshampoo=18000 ##Precio pantene 2 en 1\n",
        "cshampoo=4 ##unidades de shampoo\n",
        "ppbebe=17000 ##Precio paga de pañales pequeñin\n",
        "cpbebe=3 ##Cantidad de pañales\n",
        "\n",
        "subtotal=0\n",
        "print(\"calculando el total de la compra...\")\n",
        "total_pph=ppph*cpph\n",
        "print(\"El valor total de papel higienico es: $\", total_pph)"
      ],
      "execution_count": 6,
      "outputs": [
        {
          "output_type": "stream",
          "text": [
            "calculando el total de la compra...\n",
            "El valor total de papel higienico es: $ 28000\n"
          ],
          "name": "stdout"
        }
      ]
    }
  ]
}