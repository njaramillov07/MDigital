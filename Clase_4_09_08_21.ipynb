{
  "nbformat": 4,
  "nbformat_minor": 0,
  "metadata": {
    "colab": {
      "name": "Clase 4 09/08/21.ipynb",
      "provenance": [],
      "authorship_tag": "ABX9TyP0za0Vwft0PcrNDxHw2IB3",
      "include_colab_link": true
    },
    "kernelspec": {
      "name": "python3",
      "display_name": "Python 3"
    },
    "language_info": {
      "name": "python"
    }
  },
  "cells": [
    {
      "cell_type": "markdown",
      "metadata": {
        "id": "view-in-github",
        "colab_type": "text"
      },
      "source": [
        "<a href=\"https://colab.research.google.com/github/njaramillov07/MDigital/blob/main/Clase_4_09_08_21.ipynb\" target=\"_parent\"><img src=\"https://colab.research.google.com/assets/colab-badge.svg\" alt=\"Open In Colab\"/></a>"
      ]
    },
    {
      "cell_type": "markdown",
      "metadata": {
        "id": "f09cQflym_-5"
      },
      "source": [
        "**Continuacion de estructuras de control iterativas**\n",
        "\n",
        "\n",
        "---\n",
        "**ACUMULADORES**\n",
        "\n",
        "Se le da este nombre a las variables que se encargan de \"almacenar\" algun tipo de informacion.\n",
        "\n",
        "**Ejemplo:** caso de la compra de viveres en la tienda.\n"
      ]
    },
    {
      "cell_type": "code",
      "metadata": {
        "colab": {
          "base_uri": "https://localhost:8080/"
        },
        "id": "hQohpSPpknuU",
        "outputId": "5ece1bf0-f9d8-4fa7-edd4-4fd385f53896"
      },
      "source": [
        "nombre=input(\"Nombre del Consumidor\")\n",
        "listacomp=\"\"\n",
        "print(nombre, \"escribe los siguientes viveres para su compra en el supermercado:\")\n",
        "listacomp=listacomp+\"1 Paca de papel higienico\"\n",
        "print(\"----Compras que tengo que hacer----\")\n",
        "print(listacomp)\n",
        "listacomp=listacomp+\"Shampoo pantene 2 en 1\"\n",
        "print(listacomp)"
      ],
      "execution_count": 3,
      "outputs": [
        {
          "output_type": "stream",
          "text": [
            "Nombre del ConsumidorSandra\n",
            "Sandra escribe los siguientes viveres para su compra en el supermercado:\n",
            "----Compras que tengo que hacer----\n",
            "1 Paca de papel higienico\n",
            "1 Paca de papel higienicoShampoo pantene 2 en 1\n"
          ],
          "name": "stdout"
        }
      ]
    },
    {
      "cell_type": "markdown",
      "metadata": {
        "id": "Zs2x0Zk8p6VX"
      },
      "source": [
        "**Opion 2**"
      ]
    },
    {
      "cell_type": "code",
      "metadata": {
        "colab": {
          "base_uri": "https://localhost:8080/"
        },
        "id": "AXqA5qkepnDJ",
        "outputId": "7b47f0e6-103e-4ee5-f517-658a9e26d311"
      },
      "source": [
        "nombre=input(\"Nombre del Consumidor\")\n",
        "listacomp=\"\"\n",
        "print(nombre, \"escribe los siguientes viveres para su compra en el supermercado:\")\n",
        "listacomp=listacomp+\"1 Paca de papel higienico\"\n",
        "print(\"----Compras que tengo que hacer----\")\n",
        "listacomp=listacomp+\", Shampoo pantene 2 en 1\"\n",
        "listacomp=listacomp+\", 2 pacas de pañales pequeñin etapa 3\"\n",
        "\n",
        "print(listacomp)"
      ],
      "execution_count": 5,
      "outputs": [
        {
          "output_type": "stream",
          "text": [
            "Nombre del ConsumidorSandra\n",
            "Sandra escribe los siguientes viveres para su compra en el supermercado:\n",
            "----Compras que tengo que hacer----\n",
            "1 Paca de papel higienico, Shampoo pantene 2 en 1, 2 pacas de pañales pequeñin etapa 3\n"
          ],
          "name": "stdout"
        }
      ]
    },
    {
      "cell_type": "markdown",
      "metadata": {
        "id": "NJHWTYc6p_ek"
      },
      "source": [
        "La variable \"listacomp\" nos esta sirviendo para acumular información de la lista compras.\n",
        "Podemos observar, que **NO** estamos creando una variable por cada item, sino una variable definida que nos sirve para almacenar infomacion.\n",
        "\n",
        "A continiacion observemos un ejemplo donde se ponga en practica el uso de la acumulacion en una variable usando cantidades y precio."
      ]
    },
    {
      "cell_type": "code",
      "metadata": {
        "colab": {
          "base_uri": "https://localhost:8080/"
        },
        "id": "LieKFTB7qm2N",
        "outputId": "2f7f4f53-69ce-4dc0-8d73-edb52e6d9e9b"
      },
      "source": [
        "ppph=14000 ##precio de paca de papel higienico\n",
        "cpph=2 ##Cantidad de papel higienico\n",
        "pshampoo=18000 ##Precio pantene 2 en 1\n",
        "cshampoo=4 ##unidades de shampoo\n",
        "ppbebe=17000 ##Precio paga de pañales pequeñin\n",
        "cpbebe=3 ##Cantidad de pañales\n",
        "\n",
        "subtotal=0\n",
        "print(\"calculando el total de la compra...\")\n",
        "total_pph=ppph*cpph\n",
        "print(\"El valor total de papel higienico es: $\", total_pph)\n",
        "subtotal=subtotal+total_pph\n",
        "print(\"--- El subtotal es: $\", subtotal)\n",
        "total_shampoo=pshampoo*cshampoo\n",
        "print(\"El valor total de Shampoo es: $\", total_shampoo)\n",
        "subtotal=subtotal+total_shampoo\n",
        "print(\"--- El subtotal es: $\", subtotal)\n",
        "total_pbebe=ppbebe*cpbebe\n",
        "print(\"El valor total paca de pañales es: $\", total_pbebe)\n",
        "subtotal=subtotal+total_pbebe\n",
        "print(\"El total de su compra es: $\", subtotal)"
      ],
      "execution_count": 12,
      "outputs": [
        {
          "output_type": "stream",
          "text": [
            "calculando el total de la compra...\n",
            "El valor total de papel higienico es: $ 28000\n",
            "--- El subtotal es: $ 28000\n",
            "El valor total de Shampoo es: $ 72000\n",
            "--- El subtotal es: $ 100000\n",
            "El valor total paca de pañales es: $ 51000\n",
            "El total de su compra es: $ 151000\n"
          ],
          "name": "stdout"
        }
      ]
    },
    {
      "cell_type": "markdown",
      "metadata": {
        "id": "j17PLGeQ37Tr"
      },
      "source": [
        "**Contadores**\n",
        "\n",
        "\n",
        "---\n",
        "Tiene mucha relacion con los \"acumuladores\" visto en el partado anterior, estas variables se caracterizan por ser variables de control, es decir, controlan la **cantidad** de veces que se ejecuta determinada accion.\n",
        "\n",
        "Usando el ejemplo anterior y modificandolo un poco, podemos desarrollar el siguiente algoritmo.\n"
      ]
    },
    {
      "cell_type": "code",
      "metadata": {
        "colab": {
          "base_uri": "https://localhost:8080/"
        },
        "id": "2pe7CRwG4m1F",
        "outputId": "71487c27-82b4-47da-fd6b-cdd96016079a"
      },
      "source": [
        "#Se comprara pañales por unidad en este caso\n",
        "#cont=conteo de pañales\n",
        "\n",
        "contp=0\n",
        "print(\"Se realizara la compra de pañales etapa 3... Se ha iniciado la compra de asignacion en el carrito. En total hay:\", contp, \"pañales\")\n",
        "contp=contp+1\n",
        "print(\"Ahora hay\", contp, \"pañales\")\n",
        "contp=contp+1\n",
        "print(\"Ahora hay\", contp, \"pañales\")\n",
        "contp=contp+1\n",
        "print(\"Ahora hay\", contp, \"pañales\")\n",
        "contp=contp+1\n",
        "print(\"Ahora hay\", contp, \"pañales\")\n",
        "contp=contp+1\n",
        "print(\"Ahora hay\", contp, \"pañales\")"
      ],
      "execution_count": 23,
      "outputs": [
        {
          "output_type": "stream",
          "text": [
            "Se realizara la compra de pañales etapa 3... Se ha iniciado la compra de asignacion en el carrito. En total hay: 0 pañales\n",
            "Ahora hay 1 pañales\n",
            "Ahora hay 2 pañales\n",
            "Ahora hay 3 pañales\n",
            "Ahora hay 4 pañales\n",
            "Ahora hay 5 pañales\n"
          ],
          "name": "stdout"
        }
      ]
    },
    {
      "cell_type": "markdown",
      "metadata": {
        "id": "k8NdmhJ56x9W"
      },
      "source": [
        "**CICLOS CONTROLADOS POR CONDICIONES**\n",
        "\n",
        "*WHILE* = MIENTRAS\n",
        "\n",
        "---\n",
        "Recordemos que las variables de control nos permite manejar estados, pasar de un estado a otro es por ejemplo una variable que no contiene elementos a contenerlos o una variable con un elemento en paticular(Acumulador o contador) y cambiarlo por completo (Bandera).\n",
        "\n",
        "Estas variables de control son la base de los ciclos de control. Siendo mas claros, pasar de una adicion manual a algo mas automatizado.\n",
        "\n",
        "Empezamos con el ciclo **WHILE** en español es \"mientras\". Este ciclo se compone de una **condicion** y su **bloque de codigo**. Lo que nos quiere decirel **while** es que el bloque de codigo se ejecutara **mientras** la condicion da como resultado TRUE or FALSE.\n",
        "\n"
      ]
    },
    {
      "cell_type": "code",
      "metadata": {
        "colab": {
          "base_uri": "https://localhost:8080/"
        },
        "id": "FePdiuH-8Bs4",
        "outputId": "550cbbe5-3ded-4d6c-8b35-6234370f31ef"
      },
      "source": [
        "lapiz=5\n",
        "contlapiz=0\n",
        "print(\"Se ha iniciado la compra. En total hay:\", contlapiz,lapiz)\n",
        "\n",
        "while (contlapiz <lapiz):\n",
        "  contlapiz=contlapiz+1\n",
        "  print(\"Se ha realizado la compra de lapices. Ahora hay\" + str(contlapiz)+ \"lapiz\") #str= reconozca una variable que yo le he dado valores numericos, como una variable tipo cadena\n",
        "\n",
        "##OPCION 2\n",
        "lapiz=5\n",
        "contlapiz=0\n",
        "print(\"Se ha iniciado la compra. En total hay:\", contlapiz,lapiz)\n",
        "\n",
        "while (contlapiz <lapiz):\n",
        "  contlapiz=contlapiz+1\n",
        "  print(\"Se ha realizado la compra de lapices. Ahora hay\", contlapiz, \"lapiz\")\n",
        "\n",
        "a=str(contlapiz)\n",
        "print(type(contlapiz))\n",
        "print(type(a))"
      ],
      "execution_count": 33,
      "outputs": [
        {
          "output_type": "stream",
          "text": [
            "Se ha iniciado la compra. En total hay: 0 5\n",
            "Se ha realizado la compra de lapices. Ahora hay1lapiz\n",
            "Se ha realizado la compra de lapices. Ahora hay2lapiz\n",
            "Se ha realizado la compra de lapices. Ahora hay3lapiz\n",
            "Se ha realizado la compra de lapices. Ahora hay4lapiz\n",
            "Se ha realizado la compra de lapices. Ahora hay5lapiz\n",
            "Se ha iniciado la compra. En total hay: 0 5\n",
            "Se ha realizado la compra de lapices. Ahora hay 1 lapiz\n",
            "Se ha realizado la compra de lapices. Ahora hay 2 lapiz\n",
            "Se ha realizado la compra de lapices. Ahora hay 3 lapiz\n",
            "Se ha realizado la compra de lapices. Ahora hay 4 lapiz\n",
            "Se ha realizado la compra de lapices. Ahora hay 5 lapiz\n",
            "<class 'int'>\n",
            "<class 'str'>\n"
          ],
          "name": "stdout"
        }
      ]
    }
  ]
}