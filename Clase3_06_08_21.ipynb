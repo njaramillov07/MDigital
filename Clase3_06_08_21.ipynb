{
  "nbformat": 4,
  "nbformat_minor": 0,
  "metadata": {
    "colab": {
      "name": "Clase3 06_08_21.ipynb",
      "provenance": [],
      "authorship_tag": "ABX9TyOC34nru62tcN7Pv2OPhY83",
      "include_colab_link": true
    },
    "kernelspec": {
      "name": "python3",
      "display_name": "Python 3"
    },
    "language_info": {
      "name": "python"
    }
  },
  "cells": [
    {
      "cell_type": "markdown",
      "metadata": {
        "id": "view-in-github",
        "colab_type": "text"
      },
      "source": [
        "<a href=\"https://colab.research.google.com/github/njaramillov07/MDigital/blob/main/Clase3_06_08_21.ipynb\" target=\"_parent\"><img src=\"https://colab.research.google.com/assets/colab-badge.svg\" alt=\"Open In Colab\"/></a>"
      ]
    },
    {
      "cell_type": "markdown",
      "metadata": {
        "id": "1eWA8GojLJsS"
      },
      "source": [
        "**Estructuras de Condicionales(Contro)**\n",
        "\n",
        "---\n",
        "Al momento de construir una instruccion de tipo condicional se debera comprender que dichas instrucciones estan diseñadas para ayudar en la toma de decisiones:\n",
        "\n",
        "**Ejemplo:**\n",
        "\n",
        "**Si** Pedro va a la tienda por la izquierda llegara mas rapido, sino, se demorará más.\n",
        "\n",
        "Existen varios tipos de instrucciones, algunos pueden ser simples y otros multiples. Sin embargo, solo se generan dos resultados.\n",
        "1. Verdadero\n",
        "2.Falso\n",
        "\n",
        "En Python tales resultados seran True o False.\n"
      ]
    },
    {
      "cell_type": "markdown",
      "metadata": {
        "id": "xojcLyocNFKW"
      },
      "source": [
        "Para aplicar estos condicionales que veremos a continuacion debemos recordar los comandos de operadores matematicos vistos en la clase anterior:\n",
        "1. Igualdad (==) // 12==7 // False\n",
        "2. Diferencia (!=) // rosado!=verde // True\n",
        "3. Menor que (<) // 12<11 // False\n",
        "4. Mayor que (>) // 1>1.5 // False\n",
        "5. Menor o Igual que (<=) // 30<=30 // True\n",
        "6. Mayor o Igual que (>=) // 1>=2 // False"
      ]
    },
    {
      "cell_type": "markdown",
      "metadata": {
        "id": "fvCoaJ_uOIux"
      },
      "source": [
        "En condiciones multiles, podemos enlazar los operadores logicos:\n",
        "1. y(and)\n",
        "2. or(or)\n",
        "3. not(no)\n",
        "\n",
        "**Ejemplos:**\n",
        "\n",
        "3==8 and 8>12 // Falso // and\n",
        "\n",
        "3=3 or 15<3 // True // or \n",
        "\n",
        "not true // False\n"
      ]
    },
    {
      "cell_type": "markdown",
      "metadata": {
        "id": "_Q64d1XdOyIG"
      },
      "source": [
        "Para aplicar los operadores matematicos y logicos tenemos que tener en cuenta lo que llamamos **Diagrama de Flujos**, esto nos permite una mayor organizacion de las ideas para la toma de desiciones.\n"
      ]
    },
    {
      "cell_type": "markdown",
      "metadata": {
        "id": "rwQxchjgPBpf"
      },
      "source": [
        "**El comando IF**\n",
        "\n",
        "---\n",
        "Este comando permite evaluar si una sentencia es verdadera o falsa. Es decir, se ejecuta una accion establecida mediante un codigo de instruccion o varias instrucciones inmediatamente en las lineas siguientes a dicha condicion.\n"
      ]
    },
    {
      "cell_type": "code",
      "metadata": {
        "colab": {
          "base_uri": "https://localhost:8080/"
        },
        "id": "xYZZ2L1PV_Qs",
        "outputId": "6773d961-1663-4819-dd04-2cc0b2a4ba8d"
      },
      "source": [
        "num =input('Escribir un número cualquiera:')\n",
        "if num == 200:\n",
        "  print(\"Escribiste el 200\")"
      ],
      "execution_count": 4,
      "outputs": [
        {
          "output_type": "stream",
          "text": [
            "Escribir un número cualquiera:100\n"
          ],
          "name": "stdout"
        }
      ]
    },
    {
      "cell_type": "markdown",
      "metadata": {
        "id": "Scfh0P_VWsrv"
      },
      "source": [
        "**El comando ELSE**\n",
        "\n",
        "---\n",
        "En español es conocido como \"si no\". Este comando permite relacinar las acciones que deberia realizar en caso de que la condicion sea falsa.\n"
      ]
    },
    {
      "cell_type": "code",
      "metadata": {
        "colab": {
          "base_uri": "https://localhost:8080/"
        },
        "id": "HD-PRMQ1X7on",
        "outputId": "cff05c3e-e16f-4869-be6c-3bdbc599189c"
      },
      "source": [
        "num =input('Escribir un número cualquiera:')\n",
        "if num == 200:\n",
        "  print(\"Escribiste el 200\")\n",
        "else:\n",
        "    print(\"El numero escrito NO ES 200\")"
      ],
      "execution_count": 7,
      "outputs": [
        {
          "output_type": "stream",
          "text": [
            "Escribir un número cualquiera:100\n",
            "El numero escrito NO ES 200\n"
          ],
          "name": "stdout"
        }
      ]
    },
    {
      "cell_type": "code",
      "metadata": {
        "colab": {
          "base_uri": "https://localhost:8080/"
        },
        "id": "O16PuTroYkVc",
        "outputId": "c794727a-d63c-411f-9352-5d0ea398fa6f"
      },
      "source": [
        "num =int(input('Escribir un número cualquiera:'))\n",
        "if num == 200:\n",
        "  print(\"Escribiste el 200\")\n",
        "else:\n",
        "  print(\"El numero escrito NO ES 200\")"
      ],
      "execution_count": 12,
      "outputs": [
        {
          "output_type": "stream",
          "text": [
            "Escribir un número cualquiera:200\n",
            "Escribiste el 200\n"
          ],
          "name": "stdout"
        }
      ]
    },
    {
      "cell_type": "markdown",
      "metadata": {
        "id": "vkjWHcHPZrSb"
      },
      "source": [
        "**El comando ELIF**\n",
        "\n",
        "---\n",
        "Significa \"sino, si\" y permite concatenar condiciones:\n"
      ]
    },
    {
      "cell_type": "code",
      "metadata": {
        "colab": {
          "base_uri": "https://localhost:8080/"
        },
        "id": "QCt5Q_1tZ3D3",
        "outputId": "397047ab-d3d5-4e84-ae32-cf6c3e5a6104"
      },
      "source": [
        "num =int(input('Escribir un número cualquiera:'))\n",
        "if num == 200:\n",
        "  print(\"Escribiste el 200\")\n",
        "elif num >200:\n",
        "  print(\"El numero es mayor a 200\")\n",
        "else:\n",
        "  print(\"El numero escrito NO ES 200\")"
      ],
      "execution_count": 18,
      "outputs": [
        {
          "output_type": "stream",
          "text": [
            "Escribir un número cualquiera:201\n",
            "El numero es mayor a 200\n"
          ],
          "name": "stdout"
        }
      ]
    },
    {
      "cell_type": "markdown",
      "metadata": {
        "id": "kuO3EvJJdkWW"
      },
      "source": [
        "**Condicionales Multiples**\n",
        "\n",
        "---\n",
        "Cuando se presentan situaciones con mas de una condicion que dependen una de otras, estas se pueden tratar mediante el manejo de varias sentencias o comandos if, o mediante el manejo adecuado del comando elif. Sin embargo en muchos casos cuando hay multiples condiciones la programacion necesita mayor cantidad de lines de codigo.\n",
        "\n",
        "En esos casos, es necesario el uso de operadores logicos como el nad y el or.\n"
      ]
    },
    {
      "cell_type": "code",
      "metadata": {
        "colab": {
          "base_uri": "https://localhost:8080/"
        },
        "id": "0uwoJLWJeaQE",
        "outputId": "24f79fd2-e8d2-4abd-dfc4-0236c936d965"
      },
      "source": [
        "x=int(input(\"valor\")) #Condicional anidada\n",
        "if 0<x:\n",
        " if x<10:\n",
        "  print(\"x es un numero positivo\")"
      ],
      "execution_count": 22,
      "outputs": [
        {
          "output_type": "stream",
          "text": [
            "valor9\n",
            "x es un numero positivo\n"
          ],
          "name": "stdout"
        }
      ]
    },
    {
      "cell_type": "code",
      "metadata": {
        "colab": {
          "base_uri": "https://localhost:8080/"
        },
        "id": "dSKrJ_wLgZxT",
        "outputId": "8868a903-7ce7-4bb0-cc40-1015fba5e0fa"
      },
      "source": [
        "x=int(input(\"valor\")) #Expresion booleana\n",
        "if 0<x and x<10:\n",
        "  print(\"x es un numero de un solo digito\")"
      ],
      "execution_count": 26,
      "outputs": [
        {
          "output_type": "stream",
          "text": [
            "valor15\n"
          ],
          "name": "stdout"
        }
      ]
    },
    {
      "cell_type": "code",
      "metadata": {
        "colab": {
          "base_uri": "https://localhost:8080/"
        },
        "id": "NyeJ2WsQgwZP",
        "outputId": "9ba70714-542c-47dc-ba96-2bfa8ae720b9"
      },
      "source": [
        "x=int(input(\"valor\"))\n",
        "if 0<x<10:\n",
        "  print(\"x es un numero de un solo digito\")"
      ],
      "execution_count": 28,
      "outputs": [
        {
          "output_type": "stream",
          "text": [
            "valor3\n",
            "x es un numero de un solo digito\n"
          ],
          "name": "stdout"
        }
      ]
    },
    {
      "cell_type": "markdown",
      "metadata": {
        "id": "c0bvvR6mhLNe"
      },
      "source": [
        "**Nota:** esta condicion es la misma expresion boolena compuesta y la misma expresion condicional anidad."
      ]
    }
  ]
}