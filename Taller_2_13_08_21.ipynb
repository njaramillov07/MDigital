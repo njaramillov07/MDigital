{
  "nbformat": 4,
  "nbformat_minor": 0,
  "metadata": {
    "colab": {
      "name": "Taller 2 13.08.21.ipynb",
      "provenance": [],
      "authorship_tag": "ABX9TyMgre6tjDKau/doYHkJeoCJ",
      "include_colab_link": true
    },
    "kernelspec": {
      "name": "python3",
      "display_name": "Python 3"
    },
    "language_info": {
      "name": "python"
    }
  },
  "cells": [
    {
      "cell_type": "markdown",
      "metadata": {
        "id": "view-in-github",
        "colab_type": "text"
      },
      "source": [
        "<a href=\"https://colab.research.google.com/github/njaramillov07/MDigital/blob/main/Taller_2_13_08_21.ipynb\" target=\"_parent\"><img src=\"https://colab.research.google.com/assets/colab-badge.svg\" alt=\"Open In Colab\"/></a>"
      ]
    },
    {
      "cell_type": "markdown",
      "metadata": {
        "id": "xIm6fP8z8cbH"
      },
      "source": [
        "**Ejercicio de práctica**\n",
        "\n",
        "\n",
        "---\n",
        "Se le pide al analísta realizar una estimación poblacional a partir de información descriptiva relevante sobre población de los países en vía de desarrollo.\n",
        "\n",
        "Para ello de inicio se solicita que se cree un programa que permita ingresar como prueba 5 países y su respectiva población e identificar que país tiene la mayor cantidad de habitantes.\n"
      ]
    },
    {
      "cell_type": "code",
      "metadata": {
        "colab": {
          "base_uri": "https://localhost:8080/"
        },
        "id": "m8YvGTDU8FNi",
        "outputId": "d9997b3a-edbf-4de4-9a03-a50912deaf25"
      },
      "source": [
        "def poblacion():\n",
        "  pais=[]\n",
        "  for x in range(5):\n",
        "    nombre=input(\"Ingresa el nombre del país:\")\n",
        "    cant=int(input(\"Ingresa la cantidad de habitantes:\"))\n",
        "    pais.append((nombre,cant))\n",
        "  return pais\n",
        "\n",
        "def view(pais):\n",
        "  print(\"Habitantes por país:\")\n",
        "  for x in range(1,len(pais)):\n",
        "    print(pais[x][0],pais[x][1])\n",
        "\n",
        "def mayor(pais):\n",
        "  p=0\n",
        "  for x in range(1,len(pais)):\n",
        "    if pais[x][1]>pais[p][1]:\n",
        "      pos=x\n",
        "  print(\"El país con la más alta población registrada es:\",pais[p][0])\n",
        "\n",
        "pais=poblacion()\n",
        "view(pais)\n",
        "mayor(pais)\n"
      ],
      "execution_count": 3,
      "outputs": [
        {
          "output_type": "stream",
          "text": [
            "Ingresa el nombre del país:Colombia \n",
            "Ingresa la cantidad de habitantes:34567854234\n",
            "Ingresa el nombre del país:Ecuador\n",
            "Ingresa la cantidad de habitantes:235775566\n",
            "Ingresa el nombre del país:Peru\n",
            "Ingresa la cantidad de habitantes:4670076290\n",
            "Ingresa el nombre del país:Brasil\n",
            "Ingresa la cantidad de habitantes:56788664368\n",
            "Ingresa el nombre del país:Venezuela\n",
            "Ingresa la cantidad de habitantes:56899\n",
            "Habitantes por país:\n",
            "Ecuador 235775566\n",
            "Peru 4670076290\n",
            "Brasil 56788664368\n",
            "Venezuela 56899\n",
            "El país con la más alta población registrada es: Colombia \n"
          ],
          "name": "stdout"
        }
      ]
    }
  ]
}