{
  "nbformat": 4,
  "nbformat_minor": 0,
  "metadata": {
    "colab": {
      "name": "Taller 2 13.08.21.ipynb",
      "provenance": [],
      "authorship_tag": "ABX9TyNvDXtvcimMEUckAEkeiq8x",
      "include_colab_link": true
    },
    "kernelspec": {
      "name": "python3",
      "display_name": "Python 3"
    },
    "language_info": {
      "name": "python"
    }
  },
  "cells": [
    {
      "cell_type": "markdown",
      "metadata": {
        "id": "view-in-github",
        "colab_type": "text"
      },
      "source": [
        "<a href=\"https://colab.research.google.com/github/njaramillov07/MDigital/blob/main/Taller_2_13_08_21.ipynb\" target=\"_parent\"><img src=\"https://colab.research.google.com/assets/colab-badge.svg\" alt=\"Open In Colab\"/></a>"
      ]
    },
    {
      "cell_type": "markdown",
      "metadata": {
        "id": "xIm6fP8z8cbH"
      },
      "source": [
        "**Ejercicio de práctica**\n",
        "\n",
        "\n",
        "---\n",
        "Se le pide al analísta realizar una estimación poblacional a partir de información descriptiva relevante sobre población de los países en vía de desarrollo.\n",
        "\n",
        "Para ello de inicio se solicita que se cree un programa que permita ingresar como prueba 5 países y su respectiva población e identificar que país tiene la mayor cantidad de habitantes.\n"
      ]
    },
    {
      "cell_type": "code",
      "metadata": {
        "id": "m8YvGTDU8FNi"
      },
      "source": [
        "def poblacion():\n",
        "  pais=[]\n",
        "  for x in range(2):\n",
        "    nombre=input(\"Ingresa el nombre del país:\")\n",
        "    cant=int(input(\"Ingresa la cantidad de habitantes:\"))\n",
        "    pais.append((nombre,cant))\n",
        "  return pais\n",
        "\n",
        "def view(pais):\n",
        "  print(\"Habitantes por país:\")\n",
        "  for x in range(1,len(pais)):\n",
        "    print(pais[x][0],pais[x][1])\n",
        "\n",
        "def mayor(pais):\n",
        "  p=0\n",
        "  for x in range(1,len(pais)):\n",
        "    if pais[x][1]>pais[p][1]:\n",
        "      pos=x\n",
        "  print(\"El país con la más alta población registrada es:\",pais[p][0])\n",
        "\n",
        "pais=poblacion()\n",
        "view(pais)\n",
        "mayor(pais)\n"
      ],
      "execution_count": null,
      "outputs": []
    },
    {
      "cell_type": "markdown",
      "metadata": {
        "id": "6lwS7OA5BE93"
      },
      "source": [
        "**Taller 2**\n",
        "\n",
        "\n",
        "---\n",
        "Se solicita realizar un programa que permita identificar el nivel de cumplimiento del área de ventas de la empresa AVA. Entre los principales requerimientos se encuentran los siguientes:\n",
        "1. Permita ingresar la cantidad de vendedores del área de ventas.\n",
        "2. Permita ingresar la puntuación para cada uno de ellos (escala de 1 a 10)\n",
        "3. El programa debe permitir identificar el vendedor con peor rendimiento y mayor rendimiento.\n",
        "4. Obtener tembién el promedio general del nivel de cumplimiento del área de ventas.\n",
        "\n",
        "**Nota:** Si hay empate en la puntuación para definir el primer y último puesto, se define por orden alfabetico.\n"
      ]
    },
    {
      "cell_type": "code",
      "metadata": {
        "id": "c7uqWOahCMYj"
      },
      "source": [
        "def areaventas():\n",
        "  vendedor=[]\n",
        "  for x in range(2):\n",
        "    nombre=input(\"Ingresa el nombre del vendedor:\")\n",
        "    cant=int(input(\"Ingresa la puntuación:\"))\n",
        "    vendedor.append((nombre,cant))\n",
        "  return vendedor\n",
        "\n",
        "def view(vendedor):\n",
        "  print(\"Ventas por vendedor:\")\n",
        "  for x in range(1,len(vendedor)):\n",
        "    print(vendedor[x][0],vendedor[x][1])\n",
        "\n",
        "def mayor(vendedor) or menor(vendedor):\n",
        "  v=0\n",
        "  for x in range(1,len(vendedor)):\n",
        "    if vendedor[x][1]>vendedor[v][1]:\n",
        "      pos=x\n",
        "  print(\"El vendedor con mayor ventas registradas es:\",vendedor[v][0])\n",
        "\n",
        "vendedor=areaventas()\n",
        "view(vendedor)\n",
        "mayor(vendedor)\n",
        "menor(vendedor)"
      ],
      "execution_count": null,
      "outputs": []
    }
  ]
}