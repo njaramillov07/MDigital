{
  "nbformat": 4,
  "nbformat_minor": 0,
  "metadata": {
    "colab": {
      "name": "Clase8 13/08/21.ipynb",
      "provenance": [],
      "authorship_tag": "ABX9TyMKvcJMVBnju97ktilyHiZK",
      "include_colab_link": true
    },
    "kernelspec": {
      "name": "python3",
      "display_name": "Python 3"
    },
    "language_info": {
      "name": "python"
    }
  },
  "cells": [
    {
      "cell_type": "markdown",
      "metadata": {
        "id": "view-in-github",
        "colab_type": "text"
      },
      "source": [
        "<a href=\"https://colab.research.google.com/github/njaramillov07/MDigital/blob/main/Clase8_13_08_21.ipynb\" target=\"_parent\"><img src=\"https://colab.research.google.com/assets/colab-badge.svg\" alt=\"Open In Colab\"/></a>"
      ]
    },
    {
      "cell_type": "markdown",
      "metadata": {
        "id": "mqNAiutgg4_5"
      },
      "source": [
        "**EJERCIO PARACTICA**\n",
        "\n",
        "---\n",
        "Se le pide al analista realizar una estimacion poblacional a partir de informacion descriptiva relevante sobre la poblacion de los paises en via de desarrollo.\n",
        "\n",
        "Para ello de inicio se solicita que se cree un programa que permita ingresas como prueba 5 paises y su respectiva poblacion e identificar que pais tiene la mayor cantidad de habitantes."
      ]
    },
    {
      "cell_type": "markdown",
      "metadata": {
        "id": "BK8MLV99lcge"
      },
      "source": [
        ""
      ]
    },
    {
      "cell_type": "code",
      "metadata": {
        "colab": {
          "base_uri": "https://localhost:8080/"
        },
        "id": "ixudH_qKha22",
        "outputId": "d3f38956-313c-48cd-e542-c26d9316e919"
      },
      "source": [
        "lcompras=list()\n",
        "articulo=input('Que productos se va a comprar?')\n",
        "while articulo!=\" \":\n",
        "  lcompras.append(articulo)\n",
        "print(lcompras)\n"
      ],
      "execution_count": null,
      "outputs": [
        {
          "name": "stdout",
          "output_type": "stream",
          "text": [
            "Que productos se va a comprar?papa\n"
          ]
        }
      ]
    },
    {
      "cell_type": "code",
      "metadata": {
        "id": "8t0shH3kgZI7"
      },
      "source": [
        ""
      ],
      "execution_count": null,
      "outputs": []
    }
  ]
}