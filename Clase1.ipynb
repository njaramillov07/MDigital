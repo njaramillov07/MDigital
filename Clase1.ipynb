{
  "nbformat": 4,
  "nbformat_minor": 0,
  "metadata": {
    "colab": {
      "name": "Clase1.ipynb",
      "provenance": [],
      "authorship_tag": "ABX9TyNCTkYi/TFaJ8qIMg0LlDd1",
      "include_colab_link": true
    },
    "kernelspec": {
      "name": "python3",
      "display_name": "Python 3"
    },
    "language_info": {
      "name": "python"
    }
  },
  "cells": [
    {
      "cell_type": "markdown",
      "metadata": {
        "id": "view-in-github",
        "colab_type": "text"
      },
      "source": [
        "<a href=\"https://colab.research.google.com/github/njaramillov07/MDigital/blob/main/Clase1.ipynb\" target=\"_parent\"><img src=\"https://colab.research.google.com/assets/colab-badge.svg\" alt=\"Open In Colab\"/></a>"
      ]
    },
    {
      "cell_type": "code",
      "metadata": {
        "id": "DbYpkEITo4hg"
      },
      "source": [
        ""
      ],
      "execution_count": null,
      "outputs": []
    },
    {
      "cell_type": "markdown",
      "metadata": {
        "id": "o1Ay8-kno7Dl"
      },
      "source": [
        "**Introducción** \n",
        "\n",
        "---\n",
        "Para manejar un código limpio en Python, podemos seguir las siguientes condiciones:\n",
        "\n",
        "1. Manejar siempre mínusculas\n",
        "2. Se le puede añadir números\n",
        "3. Aparecera error si no están seguidos la declaración de las variables con el número asignado, es decir, ana1(correcto) ana 1 (incorrecto - error)\n",
        "\n",
        "En Python hay varios tipos de datos compuestos y están disponibles por defecto en los interpretes.\n",
        "\n",
        "**¿De que tipos?**\n",
        "\n",
        "1. Númericos\n",
        "2. Secuencias\n",
        "3. Mapeos \n",
        "4. Conjuntos usados para agrupar otros valores.\n",
        "\n",
        "**Diferencia entre constantes y Veriables**\n",
        "\n",
        "En mátematicas llamamos constantes a una magnitud que no cambia con el paso del tiempo.\n",
        "\n",
        "Ejemplo: Contabilidad: Gastos fijos_ Muebles de oficina\n",
        "\n",
        "Ejemplo 2: 6\n",
        "\n",
        "Por otro lado, el concepto de variable, como la cantidad que es susceptible a tomar distintos valores númericos.\n",
        "\n",
        "\n",
        "\n"
      ]
    },
    {
      "cell_type": "markdown",
      "metadata": {
        "id": "quhlg05QqoiE"
      },
      "source": [
        ""
      ]
    },
    {
      "cell_type": "code",
      "metadata": {
        "colab": {
          "base_uri": "https://localhost:8080/"
        },
        "id": "o6TPYFBQqmns",
        "outputId": "792dcefb-a18b-403a-9710-2687f3c4cbbe"
      },
      "source": [
        "x=80\n",
        "print(x)"
      ],
      "execution_count": 2,
      "outputs": [
        {
          "output_type": "stream",
          "text": [
            "80\n"
          ],
          "name": "stdout"
        }
      ]
    },
    {
      "cell_type": "markdown",
      "metadata": {
        "id": "Bk5jG7hAqm7q"
      },
      "source": [
        ""
      ]
    },
    {
      "cell_type": "markdown",
      "metadata": {
        "id": "li5LD5MxrOAT"
      },
      "source": [
        "**Tipos de Datos**\n",
        "\n",
        "\n",
        "\n",
        "---\n",
        "**Enteros**\n",
        "\n",
        "Son los que no tienen decimales \n",
        "\n",
        "Pueden ser positivos o negativos\n",
        "\n",
        "\n",
        "\n"
      ]
    },
    {
      "cell_type": "code",
      "metadata": {
        "colab": {
          "base_uri": "https://localhost:8080/"
        },
        "id": "3-fBOOXGrdtL",
        "outputId": "1fe7767d-98f1-4327-b77d-6cd434f15c0c"
      },
      "source": [
        "a=int(3.964)\n",
        "print(a)"
      ],
      "execution_count": 6,
      "outputs": [
        {
          "output_type": "stream",
          "text": [
            "3\n"
          ],
          "name": "stdout"
        }
      ]
    },
    {
      "cell_type": "code",
      "metadata": {
        "id": "eH5PN25_r-kx"
      },
      "source": [
        ""
      ],
      "execution_count": 7,
      "outputs": []
    },
    {
      "cell_type": "markdown",
      "metadata": {
        "id": "m-3o9F7esPzB"
      },
      "source": [
        "El comando int es para hacer alusión a números enteros.\n",
        "\n",
        "A parte el comando float, permite valores con decimales.\n"
      ]
    },
    {
      "cell_type": "code",
      "metadata": {
        "colab": {
          "base_uri": "https://localhost:8080/"
        },
        "id": "NrbAbJ1ksd-i",
        "outputId": "83d170e0-4777-4af9-c908-6e9ebe18fe44"
      },
      "source": [
        "b=float(8.23)\n",
        "print(b)"
      ],
      "execution_count": 9,
      "outputs": [
        {
          "output_type": "stream",
          "text": [
            "8.23\n"
          ],
          "name": "stdout"
        }
      ]
    },
    {
      "cell_type": "markdown",
      "metadata": {
        "id": "xoV4nae4syrY"
      },
      "source": [
        "**Tipo Cadena**\n",
        "\n",
        "\n",
        "---\n",
        "Las cadenas de texto encerrado entre comillas (simple o dobles) y se pueden conformar de diferentes caracteres (Númericos, Albéticos, Especiales #$+*%). Tener en cuenta las cadenas admiten operadores como la suma y la resta.\n",
        "\n"
      ]
    },
    {
      "cell_type": "code",
      "metadata": {
        "colab": {
          "base_uri": "https://localhost:8080/"
        },
        "id": "9Fx-GKSGtZdg",
        "outputId": "befa0e74-9c2e-459a-e905-93bc5168842e"
      },
      "source": [
        "val1=\"Natalia\"\n",
        "print(val1)\n",
        "\n",
        "val2=\"Hola Mundo\"\n",
        "print(val2)"
      ],
      "execution_count": 11,
      "outputs": [
        {
          "output_type": "stream",
          "text": [
            "Natalia\n",
            "Hola Mundo\n"
          ],
          "name": "stdout"
        }
      ]
    },
    {
      "cell_type": "code",
      "metadata": {
        "colab": {
          "base_uri": "https://localhost:8080/"
        },
        "id": "aL2HOAJit6nI",
        "outputId": "c7133f1f-ebd3-4f14-c318-e970dba85b5f"
      },
      "source": [
        "n=\"Aprender\"\n",
        "z=\"Python\"\n",
        "w=\"Aprender Python\"\n",
        "nz=n+\"\"+z\n",
        "print(n,z)\n",
        "print(w)\n",
        "\n",
        "q=\"5\"\n",
        "p=\"2\"\n",
        "b=int(q)\n",
        "c=int(p)\n",
        "print(b-c)\n"
      ],
      "execution_count": 16,
      "outputs": [
        {
          "output_type": "stream",
          "text": [
            "Aprender Python\n",
            "Aprender Python\n",
            "3\n"
          ],
          "name": "stdout"
        }
      ]
    },
    {
      "cell_type": "markdown",
      "metadata": {
        "id": "tJ3ABHyFx8bS"
      },
      "source": [
        "**Tipo de Booleanos**\n",
        "\n",
        "\n",
        "---\n",
        "Este tipo de variable solo tendra un valor verdadero o falso.\n",
        "\n",
        "**Nota**\n",
        "Son valores muy usados en condiciones y bucles.\n",
        "\n"
      ]
    },
    {
      "cell_type": "code",
      "metadata": {
        "colab": {
          "base_uri": "https://localhost:8080/"
        },
        "id": "qf08cxuLyS_x",
        "outputId": "07aede3b-820c-4d8d-f635-7d8911d3d3ed"
      },
      "source": [
        "lola=True\n",
        "print(\"El valor es verdadero:\",lola,\", el cual de tipo\", type(lola))"
      ],
      "execution_count": 19,
      "outputs": [
        {
          "output_type": "stream",
          "text": [
            "El valor es verdadero True , el cual de tipo <class 'bool'>\n"
          ],
          "name": "stdout"
        }
      ]
    },
    {
      "cell_type": "markdown",
      "metadata": {
        "id": "4WADpFB_zGbY"
      },
      "source": [
        ""
      ]
    },
    {
      "cell_type": "markdown",
      "metadata": {
        "id": "HJnC_s2VzH4w"
      },
      "source": [
        "Python cuenta con tipos de datos que admiten colecciones:\n",
        "1. Listas\n",
        "2. Tuplas\n",
        "3. Diccionarios\n",
        "\n",
        "**Tipo de Conjuntos**\n",
        "Son una colección de datos sin elmentos que repiten"
      ]
    },
    {
      "cell_type": "code",
      "metadata": {
        "colab": {
          "base_uri": "https://localhost:8080/"
        },
        "id": "76uw3SAez7kH",
        "outputId": "fab584b9-382d-40a0-ea74-bdc61ae6e709"
      },
      "source": [
        "fru=\"pera\",\"manzana\", \"naranja\"\n",
        "color=\"morado\",\"blanco\"\n",
        "print(fru,color)"
      ],
      "execution_count": 22,
      "outputs": [
        {
          "output_type": "stream",
          "text": [
            "('pera', 'manzana', 'naranja') ('morado', 'blanco')\n"
          ],
          "name": "stdout"
        }
      ]
    },
    {
      "cell_type": "markdown",
      "metadata": {
        "id": "KKAU3Egw0i-t"
      },
      "source": [
        "**Tipo Listas**\n",
        "\n",
        "\n",
        "---\n",
        "Son listas las almacenan vectores.\n",
        "\n",
        "Las listas siempre empiezan a nombrarse desde el elemento cero(0)\n",
        "\n",
        "Ejemplo de listas en Python.\n"
      ]
    },
    {
      "cell_type": "code",
      "metadata": {
        "colab": {
          "base_uri": "https://localhost:8080/"
        },
        "id": "B5zq0vca0v1W",
        "outputId": "5fd6a9c6-cf1a-4fce-8361-01dd5699c879"
      },
      "source": [
        "ines=[\"5\",\"uva\",\"lila\",\"perro\"]\n",
        "print(ines)\n",
        "fe=ines[0:3:2]\n",
        "print(fe)"
      ],
      "execution_count": 25,
      "outputs": [
        {
          "output_type": "stream",
          "text": [
            "['5', 'uva', 'lila', 'perro']\n",
            "['5', 'lila']\n"
          ],
          "name": "stdout"
        }
      ]
    },
    {
      "cell_type": "markdown",
      "metadata": {
        "id": "2azOOwCr498l"
      },
      "source": [
        "**Tipo Tuplas**\n",
        "\n",
        "\n",
        "---\n",
        "Es una lista que no se puede modificar después de la creación de esta:\n",
        "Tuplas anidadas: Agrupación(Tuplas).\n"
      ]
    },
    {
      "cell_type": "code",
      "metadata": {
        "colab": {
          "base_uri": "https://localhost:8080/"
        },
        "id": "owOhsjgV5RG4",
        "outputId": "b402ff03-9230-48d2-9087-a508d727e9ce"
      },
      "source": [
        "tupla=23,28,\"hello\"\n",
        "print(tupla)\n",
        "otra=tupla,(1,2,3,4)\n",
        "print(otra)"
      ],
      "execution_count": 26,
      "outputs": [
        {
          "output_type": "stream",
          "text": [
            "(23, 28, 'hello')\n",
            "((23, 28, 'hello'), (1, 2, 3, 4))\n"
          ],
          "name": "stdout"
        }
      ]
    },
    {
      "cell_type": "markdown",
      "metadata": {
        "id": "gTMiYZUC5vdN"
      },
      "source": [
        "**Tipo Diccionarios**\n",
        "\n",
        "\n",
        "---\n",
        "Define los datos uno a uno entre un campo(ID - Identificador-Clave) y un valor:\n"
      ]
    },
    {
      "cell_type": "code",
      "metadata": {
        "colab": {
          "base_uri": "https://localhost:8080/"
        },
        "id": "iZIXv4gM62Iq",
        "outputId": "21888130-b559-4925-be28-5fd35f38e09a"
      },
      "source": [
        "datos_b={\n",
        "    \"nombres\":\"Natalia\",\n",
        "    \"apellido\":\"Jaramillo\",\n",
        "    \"cedula\":\"1233456\",\n",
        "    \"est_civil\":\"casada\",\n",
        "    \"lugar_nacimiento\":\"Bogotá\",\n",
        "    \"fecha_nacimiento\":\"08/08/1988\", \n",
        "}\n",
        "\n",
        "print(\"ID del diccionario\", datos_b.keys())\n",
        "print(\"ID del diccionario\", datos_b.values())\n",
        "print(\"ID del diccionario\", datos_b.items())"
      ],
      "execution_count": 44,
      "outputs": [
        {
          "output_type": "stream",
          "text": [
            "ID del diccionario dict_keys(['nombres', 'apellido', 'cedula', 'est_civil', 'lugar_nacimiento', 'fecha_nacimiento'])\n",
            "ID del diccionario dict_values(['Natalia', 'Jaramillo', '1233456', 'casada', 'Bogotá', '08/08/1988'])\n",
            "ID del diccionario dict_items([('nombres', 'Natalia'), ('apellido', 'Jaramillo'), ('cedula', '1233456'), ('est_civil', 'casada'), ('lugar_nacimiento', 'Bogotá'), ('fecha_nacimiento', '08/08/1988')])\n"
          ],
          "name": "stdout"
        }
      ]
    },
    {
      "cell_type": "markdown",
      "metadata": {
        "id": "qN6x-Kw88hYv"
      },
      "source": [
        "**Ejemplo práctico (Caracteristicas de los carros)**\n"
      ]
    },
    {
      "cell_type": "code",
      "metadata": {
        "colab": {
          "base_uri": "https://localhost:8080/"
        },
        "id": "FvOU6VMA840p",
        "outputId": "1fce25b6-d043-47b5-a445-cb36672569ad"
      },
      "source": [
        "carros_0={}\n",
        "carros_0[\"tam\"]=\"grande\"\n",
        "carros_0[\"color\"]=\"azul\"\n",
        "carros_0[\"marca\"]=\"kia\"\n",
        "carros_0['precio']='60'\n",
        "\n",
        "carros_1={}\n",
        "carros_1['tam']='pequeño'\n",
        "carros_1[\"color\"]=\"negro\"\n",
        "carros_1[\"marca\"]=\"chevrolet\"\n",
        "carros_1['precio']='20'\n",
        "print(carros_0)\n",
        "print(carros_1)\n",
        "\n",
        "compra0=carros_0['precio']\n",
        "compra1=carros_1['precio']\n",
        "compratotal=compra0+compra1\n",
        "print(\"La compra total fue de:\",compratotal)\n",
        "print(\"La compra total fue de:\"+ str(compratotal))\n"
      ],
      "execution_count": 42,
      "outputs": [
        {
          "output_type": "stream",
          "text": [
            "{'tam': 'grande', 'color': 'azul', 'marca': 'kia', 'precio': '60'}\n",
            "{'tam': 'pequeño', 'color': 'negro', 'marca': 'chevrolet', 'precio': '20'}\n",
            "La compra total fue de: 6020\n",
            "La compra total fue de:6020\n"
          ],
          "name": "stdout"
        }
      ]
    }
  ]
}