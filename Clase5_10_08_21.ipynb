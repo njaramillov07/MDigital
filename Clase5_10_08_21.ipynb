{
  "nbformat": 4,
  "nbformat_minor": 0,
  "metadata": {
    "colab": {
      "name": "Clase 5 10/08/21.ipynb",
      "provenance": [],
      "include_colab_link": true
    },
    "kernelspec": {
      "name": "python3",
      "display_name": "Python 3"
    },
    "language_info": {
      "name": "python"
    }
  },
  "cells": [
    {
      "cell_type": "markdown",
      "metadata": {
        "id": "view-in-github",
        "colab_type": "text"
      },
      "source": [
        "<a href=\"https://colab.research.google.com/github/njaramillov07/MDigital/blob/main/Clase5_10_08_21.ipynb\" target=\"_parent\"><img src=\"https://colab.research.google.com/assets/colab-badge.svg\" alt=\"Open In Colab\"/></a>"
      ]
    },
    {
      "cell_type": "markdown",
      "metadata": {
        "id": "ZhHUFySBJfKw"
      },
      "source": [
        "**Continuacion de Ciclos**\n",
        "\n",
        "---\n",
        "**Ciclo FOR - Bucle FOR**\n"
      ]
    },
    {
      "cell_type": "code",
      "metadata": {
        "id": "ufEUYqnxQbvi",
        "colab": {
          "base_uri": "https://localhost:8080/"
        },
        "outputId": "4942f85d-a876-4025-b489-10cac3a3befc"
      },
      "source": [
        "for i in range(1,5):\n",
        "  print(i)"
      ],
      "execution_count": null,
      "outputs": [
        {
          "output_type": "stream",
          "text": [
            "1\n",
            "2\n",
            "3\n",
            "4\n"
          ],
          "name": "stdout"
        }
      ]
    },
    {
      "cell_type": "markdown",
      "metadata": {
        "id": "KuNd967_QyHg"
      },
      "source": [
        "Para dejar claro las partes que componen el bucle FOR, vamos a dejar claro las siguientes definiciones:\n",
        "1. **Iterable:** son los objetos que pueden ser iterados. Por ejemplo una lista, valor tipo cadena, etc.\n",
        "2. **Iterador:** son objetos que hacen referencia a un elemento, (para hacer referencia a cada uno de los elementos hay un metodo denominado \"nest\" que permite hacer referencia a los elementos del conjunto.\n",
        "\n",
        "**#for (variable) in (iterable): \n",
        "  #(bloque codigo)\n",
        "\n",
        "Algunos ejemplos de iterables en Python son las listas, cadenas, diccionarios, tuplas, etc.\n",
        "\n",
        "Como saber que es iterable a la hora de programar?\n",
        "Podemos darnos cuenta que es iterable usando la funcion isinstance().\n"
      ]
    },
    {
      "cell_type": "code",
      "metadata": {
        "id": "TB8JjtPhHPGe",
        "colab": {
          "base_uri": "https://localhost:8080/"
        },
        "outputId": "023c1cef-0433-41f1-ab65-3853d28dba19"
      },
      "source": [
        "from collections import Iterable \n",
        "lista=[1,2,3,4,5,6,7,8,9,0]\n",
        "a=\"computador\"\n",
        "b=14\n",
        "print(isinstance(lista,Iterable))\n",
        "print(isinstance(a,Iterable))\n",
        "print(isinstance(b,Iterable))\n"
      ],
      "execution_count": null,
      "outputs": [
        {
          "output_type": "stream",
          "text": [
            "True\n",
            "True\n",
            "False\n"
          ],
          "name": "stdout"
        }
      ]
    },
    {
      "cell_type": "code",
      "metadata": {
        "colab": {
          "base_uri": "https://localhost:8080/",
          "height": 198
        },
        "id": "W7HDLiZXpipr",
        "outputId": "285c4dc4-6345-4732-e30a-e25000451514"
      },
      "source": [
        "a=30\n",
        "for i in a:\n",
        "  printi(i)"
      ],
      "execution_count": 2,
      "outputs": [
        {
          "output_type": "error",
          "ename": "TypeError",
          "evalue": "ignored",
          "traceback": [
            "\u001b[0;31m---------------------------------------------------------------------------\u001b[0m",
            "\u001b[0;31mTypeError\u001b[0m                                 Traceback (most recent call last)",
            "\u001b[0;32m<ipython-input-2-0aaf4a39d9ef>\u001b[0m in \u001b[0;36m<module>\u001b[0;34m()\u001b[0m\n\u001b[1;32m      1\u001b[0m \u001b[0ma\u001b[0m\u001b[0;34m=\u001b[0m\u001b[0;36m30\u001b[0m\u001b[0;34m\u001b[0m\u001b[0;34m\u001b[0m\u001b[0m\n\u001b[0;32m----> 2\u001b[0;31m \u001b[0;32mfor\u001b[0m \u001b[0mi\u001b[0m \u001b[0;32min\u001b[0m \u001b[0ma\u001b[0m\u001b[0;34m:\u001b[0m\u001b[0;34m\u001b[0m\u001b[0;34m\u001b[0m\u001b[0m\n\u001b[0m\u001b[1;32m      3\u001b[0m   \u001b[0mprinti\u001b[0m\u001b[0;34m(\u001b[0m\u001b[0mi\u001b[0m\u001b[0;34m)\u001b[0m\u001b[0;34m\u001b[0m\u001b[0;34m\u001b[0m\u001b[0m\n",
            "\u001b[0;31mTypeError\u001b[0m: 'int' object is not iterable"
          ]
        }
      ]
    },
    {
      "cell_type": "markdown",
      "metadata": {
        "id": "vRf8lVieptW2"
      },
      "source": [
        "Para entender los Iteradores, es importante conocer la función \"iter()\", esta funcion puede ser llamada sobre un objeto que sea iterable, y nos devolvera un iterador.\n",
        "\n",
        "Ejmeplo:"
      ]
    },
    {
      "cell_type": "code",
      "metadata": {
        "colab": {
          "base_uri": "https://localhost:8080/"
        },
        "id": "8RFm5F_LqJtl",
        "outputId": "e7ca3038-3fce-4fb7-eecf-339631c4017a"
      },
      "source": [
        "lista=(1,2,3,4,5,6,7,8,9,0)\n",
        "ref=iter(lista)\n",
        "print(ref)\n",
        "print(type(ref))"
      ],
      "execution_count": 5,
      "outputs": [
        {
          "output_type": "stream",
          "text": [
            "<tuple_iterator object at 0x7f95a6c87950>\n",
            "<class 'tuple_iterator'>\n"
          ],
          "name": "stdout"
        }
      ]
    },
    {
      "cell_type": "markdown",
      "metadata": {
        "id": "ckWkEdShqlkB"
      },
      "source": [
        "Al imprimir Ref es un iterador, de la clase \"list_iterador\". Hace referencia a la lista original y nos permie acceder a sus elementos con la funcion \"next()\".\n",
        "\n",
        "Cada vez que llamemos a **next()** sobre **ref**, nos devuelve el siguiente elemento de la lista original.\n",
        "\n",
        "Por ejemplo, quiero acceder al elemento 7, tendremos que llamar 7 veces a **next()**."
      ]
    },
    {
      "cell_type": "code",
      "metadata": {
        "colab": {
          "base_uri": "https://localhost:8080/"
        },
        "id": "K-2rhrXcq8Ed",
        "outputId": "f7b8e77d-3abf-408c-ca71-9b8d58de8e65"
      },
      "source": [
        "lista=(1,2,3,4,5,6,7,8,9,0)\n",
        "ref=iter(lista)\n",
        "print(next(ref))\n",
        "print(next(ref))\n",
        "print(next(ref))\n",
        "print(next(ref))\n",
        "print(next(ref))"
      ],
      "execution_count": 8,
      "outputs": [
        {
          "output_type": "stream",
          "text": [
            "1\n",
            "2\n",
            "3\n",
            "4\n",
            "5\n"
          ],
          "name": "stdout"
        }
      ]
    },
    {
      "cell_type": "markdown",
      "metadata": {
        "id": "wFVjdgAzrx3p"
      },
      "source": [
        "**Tener en Cuenta**\n",
        "\n",
        "Existen otros iteradores para las diferentes clases:\n",
        "1. str_iterador para cadenas\n",
        "2. list_iterador para listas\n",
        "3. set_iterador para conjuntos\n",
        "4. dict_iterador para diccionarios"
      ]
    },
    {
      "cell_type": "markdown",
      "metadata": {
        "id": "Ha80GINasZlq"
      },
      "source": [
        "**For anidados**\n",
        "\n",
        "---\n",
        "Es posible anidar lor **for**, es decir, ingresar uno dentro de otro, como lo vemos  a continuacion.\n"
      ]
    },
    {
      "cell_type": "code",
      "metadata": {
        "colab": {
          "base_uri": "https://localhost:8080/"
        },
        "id": "WAX3J-G8stAU",
        "outputId": "e1ffd058-c067-4d79-bac7-3fb49b2b52af"
      },
      "source": [
        "#Vamos a crear una lista de listas lo cual conforma una especie de Matriz. \n",
        "#Recordemos que una matriz se compone de valores que se distribuyen en filas y columnas.\n",
        "\n",
        "qa=[[1,2,3],\n",
        "    [4,5,6],\n",
        "    [7,8,9]]\n",
        "\n",
        "for i in qa:\n",
        "  print(i)\n",
        "\n",
        "for i in qa:\n",
        "  for j in i:\n",
        "    print(j)"
      ],
      "execution_count": 10,
      "outputs": [
        {
          "output_type": "stream",
          "text": [
            "[1, 2, 3]\n",
            "[4, 5, 6]\n",
            "[7, 8, 9]\n",
            "1\n",
            "2\n",
            "3\n",
            "4\n",
            "5\n",
            "6\n",
            "7\n",
            "8\n",
            "9\n"
          ],
          "name": "stdout"
        }
      ]
    },
    {
      "cell_type": "markdown",
      "metadata": {
        "id": "xL7N_V6Nt3_Q"
      },
      "source": [
        "Si queremos acceder a cada elemento individualmente se procede a realizar un bucle de **for anidado** es decir un **for** se encarga de iterar las columnas y el otro las filas."
      ]
    },
    {
      "cell_type": "code",
      "metadata": {
        "colab": {
          "base_uri": "https://localhost:8080/"
        },
        "id": "tPfcpOopujDa",
        "outputId": "54f6e9d5-ca61-4045-9358-bf5977e99b2b"
      },
      "source": [
        "#Otra forma de utilizar solo el for, es la iteracion al reves, es decir, se puede Iterar la lista desde el ultimo al primer elemento.\n",
        "\n",
        "lista=(1,2,3,4,5,6,7,8,9,0)\n",
        "for i in lista[: :-1]:\n",
        "  print(i)"
      ],
      "execution_count": 12,
      "outputs": [
        {
          "output_type": "stream",
          "text": [
            "0\n",
            "9\n",
            "8\n",
            "7\n",
            "6\n",
            "5\n",
            "4\n",
            "3\n",
            "2\n",
            "1\n"
          ],
          "name": "stdout"
        }
      ]
    },
    {
      "cell_type": "code",
      "metadata": {
        "colab": {
          "base_uri": "https://localhost:8080/"
        },
        "id": "2umhqAGmvS2D",
        "outputId": "ed7a52f8-be19-4f96-884c-67468df0d5cf"
      },
      "source": [
        "lista=(1,2,3,4,5,6,7,8,9,0)\n",
        "for i in lista[::2]:\n",
        "  print(i)\n",
        "\n",
        "print(\"--------\")\n",
        "\n",
        "a=\"computador\"\n",
        "for i in a[::2]:\n",
        "  print(i)"
      ],
      "execution_count": 20,
      "outputs": [
        {
          "output_type": "stream",
          "text": [
            "1\n",
            "3\n",
            "5\n",
            "7\n",
            "9\n",
            "--------\n",
            "c\n",
            "m\n",
            "u\n",
            "a\n",
            "o\n"
          ],
          "name": "stdout"
        }
      ]
    },
    {
      "cell_type": "code",
      "metadata": {
        "id": "5hO4bflJwmrg",
        "outputId": "db7716e7-5795-4abd-da40-ec894444c953",
        "colab": {
          "base_uri": "https://localhost:8080/"
        }
      },
      "source": [
        "#Usando rango\n",
        "\n",
        "for i in range(20):\n",
        "  print(i)\n",
        "#El range() genera una secuencia de numeros que van desde 0 por defecto hasta el numero .\n",
        "#El numero que se pasa como parametros menos 2.\n",
        "\n",
        "#*Estructura: range(inicio, fin, salto)\n",
        "\n",
        "#Observemos un truco con el range: para comvertir un rango en una lista\n",
        "\n",
        "print(list(range(2,10,2)))"
      ],
      "execution_count": 24,
      "outputs": [
        {
          "output_type": "stream",
          "text": [
            "0\n",
            "1\n",
            "2\n",
            "3\n",
            "4\n",
            "5\n",
            "6\n",
            "7\n",
            "8\n",
            "9\n",
            "10\n",
            "11\n",
            "12\n",
            "13\n",
            "14\n",
            "15\n",
            "16\n",
            "17\n",
            "18\n",
            "19\n",
            "[2, 4, 6, 8]\n"
          ],
          "name": "stdout"
        }
      ]
    },
    {
      "cell_type": "markdown",
      "metadata": {
        "id": "4T8d1E6PyTzH"
      },
      "source": [
        "**Listas de Comprension**\n",
        "\n",
        "---\n",
        "Estas nor permiten crear listas de elementos en una sola linea de codigo.\n",
        "\n",
        "Ejemplo: crear una lista de las potencias a la 3 de los numeros impares de 0 a 9\n"
      ]
    },
    {
      "cell_type": "code",
      "metadata": {
        "id": "qG4SuvDby5OM",
        "outputId": "8b8240db-8329-44a9-e5ab-a6849ffd9497",
        "colab": {
          "base_uri": "https://localhost:8080/"
        }
      },
      "source": [
        "tres=[i**3 for i in range(1,10,2)]\n",
        "#1,3,5,7,9\n",
        "print(i)"
      ],
      "execution_count": 27,
      "outputs": [
        {
          "output_type": "stream",
          "text": [
            "19\n"
          ],
          "name": "stdout"
        }
      ]
    }
  ]
}