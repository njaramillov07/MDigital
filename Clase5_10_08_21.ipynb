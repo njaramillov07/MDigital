{
  "nbformat": 4,
  "nbformat_minor": 0,
  "metadata": {
    "colab": {
      "name": "Clase 5 10/08/21.ipynb",
      "provenance": [],
      "include_colab_link": true
    },
    "kernelspec": {
      "name": "python3",
      "display_name": "Python 3"
    },
    "language_info": {
      "name": "python"
    }
  },
  "cells": [
    {
      "cell_type": "markdown",
      "metadata": {
        "id": "view-in-github",
        "colab_type": "text"
      },
      "source": [
        "<a href=\"https://colab.research.google.com/github/njaramillov07/MDigital/blob/main/Clase5_10_08_21.ipynb\" target=\"_parent\"><img src=\"https://colab.research.google.com/assets/colab-badge.svg\" alt=\"Open In Colab\"/></a>"
      ]
    },
    {
      "cell_type": "markdown",
      "metadata": {
        "id": "ZhHUFySBJfKw"
      },
      "source": [
        "**Continuacion de Ciclos**\n",
        "\n",
        "---\n",
        "**Ciclo FOR - Bucle FOR**\n"
      ]
    },
    {
      "cell_type": "code",
      "metadata": {
        "id": "ufEUYqnxQbvi",
        "outputId": "4942f85d-a876-4025-b489-10cac3a3befc",
        "colab": {
          "base_uri": "https://localhost:8080/"
        }
      },
      "source": [
        "for i in range(1,5):\n",
        "  print(i)"
      ],
      "execution_count": 7,
      "outputs": [
        {
          "output_type": "stream",
          "text": [
            "1\n",
            "2\n",
            "3\n",
            "4\n"
          ],
          "name": "stdout"
        }
      ]
    },
    {
      "cell_type": "markdown",
      "metadata": {
        "id": "KuNd967_QyHg"
      },
      "source": [
        "Para dejar claro las partes que componen el bucle FOR, vamos a dejar claro las siguientes definiciones:\n",
        "1. **Iterable:** son los objetos que pueden ser iterados. Por ejemplo una lista, valor tipo cadena, etc.\n",
        "2. **Iterador:** son objetos que hacen referencia a un elemento, (para hacer referencia a cada uno de los elementos hay un metodo denominado \"nest\" que permite hacer referencia a los elementos del conjunto.\n",
        "\n",
        "**for <variable> in <iterable>: \n",
        "  <bloque codigo>\n",
        "\n",
        "Algunos ejemplos de iterables en Python son las listas, cadenas, diccionarios, tuplas, etc.\n",
        "\n",
        "Como saber que es iterable a la hora de programar?\n",
        "Podemos darnos cuenta que es iterable usando la funcion isinstance().\n"
      ]
    },
    {
      "cell_type": "code",
      "metadata": {
        "id": "TB8JjtPhHPGe"
      },
      "source": [
        ""
      ],
      "execution_count": null,
      "outputs": []
    }
  ]
}