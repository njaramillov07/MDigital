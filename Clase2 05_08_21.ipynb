{
  "nbformat": 4,
  "nbformat_minor": 0,
  "metadata": {
    "colab": {
      "name": "Clase05/08/21.ipynb",
      "provenance": [],
      "include_colab_link": true
    },
    "kernelspec": {
      "name": "python3",
      "display_name": "Python 3"
    },
    "language_info": {
      "name": "python"
    }
  },
  "cells": [
    {
      "cell_type": "markdown",
      "metadata": {
        "id": "view-in-github",
        "colab_type": "text"
      },
      "source": [
        "<a href=\"https://colab.research.google.com/github/njaramillov07/MDigital/blob/main/Clase2%2005_08_21.ipynb\" target=\"_parent\"><img src=\"https://colab.research.google.com/assets/colab-badge.svg\" alt=\"Open In Colab\"/></a>"
      ]
    },
    {
      "cell_type": "markdown",
      "metadata": {
        "id": "eUPyZF5plfEA"
      },
      "source": [
        "\n",
        "\n",
        "**Operadores Aritmeticos**\n",
        "\n",
        "\n",
        "---\n",
        "Los operadores permiten realizar diferentes procesos de calculo en cualquier lenguaje de programación.\n",
        "\n",
        "Los operadores más basicos son:\n",
        "1. Suma\n",
        "2. Resta\n",
        "3. Multiplicacion\n",
        "4. División\n"
      ]
    },
    {
      "cell_type": "markdown",
      "metadata": {
        "id": "0lSMxxk4mvwN"
      },
      "source": [
        "**Suma**\n",
        "\n",
        "\n",
        "---\n",
        "símbolo suma(+) el cual se utilizara en medio de la declaración de las variables a operar.\n",
        "\n",
        "símbolo resta(-)"
      ]
    },
    {
      "cell_type": "code",
      "metadata": {
        "id": "WdNuLCCCnDCN",
        "colab": {
          "base_uri": "https://localhost:8080/"
        },
        "outputId": "4d2e5bca-8ffe-472e-8b67-3c56f602e8fd"
      },
      "source": [
        "print(10+300)\n",
        "a=20\n",
        "b=35\n",
        "print(a+b)\n",
        "\n",
        "print(10-300)\n",
        "print(a-b)"
      ],
      "execution_count": null,
      "outputs": [
        {
          "output_type": "stream",
          "text": [
            "310\n",
            "55\n",
            "-290\n",
            "-15\n"
          ],
          "name": "stdout"
        }
      ]
    },
    {
      "cell_type": "code",
      "metadata": {
        "id": "N8FNz5PynprO",
        "colab": {
          "base_uri": "https://localhost:8080/"
        },
        "outputId": "7c080ee2-816f-40b1-a01c-e69fce892c25"
      },
      "source": [
        "numero_botellas=12\n",
        "print(numero_botellas + 8)"
      ],
      "execution_count": null,
      "outputs": [
        {
          "output_type": "stream",
          "text": [
            "20\n"
          ],
          "name": "stdout"
        }
      ]
    },
    {
      "cell_type": "code",
      "metadata": {
        "id": "KL8Xq3Zin2WP",
        "colab": {
          "base_uri": "https://localhost:8080/"
        },
        "outputId": "729a999f-3900-408f-82a5-73fce11f35b5"
      },
      "source": [
        "numero_botellas=12\n",
        "numero_botellas=numero_botellas + 8\n",
        "print(numero_botellas)"
      ],
      "execution_count": null,
      "outputs": [
        {
          "output_type": "stream",
          "text": [
            "20\n"
          ],
          "name": "stdout"
        }
      ]
    },
    {
      "cell_type": "markdown",
      "metadata": {
        "id": "XwuVoEWvoXAj"
      },
      "source": [
        "**sumas entre los diferentes tipos de variables**\n",
        "\n",
        "\n",
        "---\n",
        "Recordemos los tipos de variables vistos en la clase de ayer:\n",
        "1. Declaracion de variables numericas enteros.\n",
        "2. Flotantes(incorpora y flexibiliza los decimales)\n",
        "3. Tipo cadena\n"
      ]
    },
    {
      "cell_type": "code",
      "metadata": {
        "id": "HzpTeMCRovxV",
        "colab": {
          "base_uri": "https://localhost:8080/"
        },
        "outputId": "1af0b225-bbe8-42a4-f09a-dfa48d4f3cfa"
      },
      "source": [
        "q1=100\n",
        "q2=24.5\n",
        "print(type(q1))\n",
        "print(type(q2))\n",
        "print(type(q1+q2))\n"
      ],
      "execution_count": 1,
      "outputs": [
        {
          "output_type": "stream",
          "text": [
            "<class 'int'>\n",
            "<class 'float'>\n",
            "<class 'float'>\n"
          ],
          "name": "stdout"
        }
      ]
    },
    {
      "cell_type": "code",
      "metadata": {
        "id": "EFp4z-ymqevV",
        "colab": {
          "base_uri": "https://localhost:8080/"
        },
        "outputId": "5cecb97b-3820-4cb4-8432-4492a6dc2845"
      },
      "source": [
        "xq2=235\n",
        "xq3=400\n",
        "print(xq2-xq3)"
      ],
      "execution_count": 2,
      "outputs": [
        {
          "output_type": "stream",
          "text": [
            "-165\n"
          ],
          "name": "stdout"
        }
      ]
    },
    {
      "cell_type": "code",
      "metadata": {
        "id": "iG59Im5vsnYz",
        "outputId": "cc334f18-89fe-42d8-a49b-9e6b508ec42b",
        "colab": {
          "base_uri": "https://localhost:8080/"
        }
      },
      "source": [
        "v1=\"quiero\"\n",
        "v2=\"un celular\"\n",
        "v3=v1+\" \"+v2\n",
        "print(v1+v2)\n",
        "print(v3)"
      ],
      "execution_count": 4,
      "outputs": [
        {
          "output_type": "stream",
          "text": [
            "quieroun celular\n",
            "quiero un celular\n"
          ],
          "name": "stdout"
        }
      ]
    },
    {
      "cell_type": "code",
      "metadata": {
        "id": "wBh7FhDstDwX",
        "outputId": "7485fecf-efe4-4dd0-9295-ec750690e3c5",
        "colab": {
          "base_uri": "https://localhost:8080/"
        }
      },
      "source": [
        "xq2=235\n",
        "xq3=400\n",
        "print(xq2-xq3)\n",
        "print(int(xq2-xq3))\n",
        "\n",
        "xq2=24.66\n",
        "xq3=4\n",
        "print(type(xq2-xq3))"
      ],
      "execution_count": 7,
      "outputs": [
        {
          "output_type": "stream",
          "text": [
            "-165\n",
            "-165\n",
            "<class 'float'>\n"
          ],
          "name": "stdout"
        }
      ]
    },
    {
      "cell_type": "markdown",
      "metadata": {
        "id": "AE7gaqjEtzTQ"
      },
      "source": [
        "**IMPORTANTE**\n",
        "La resta no funciona directamente para varable tipo cadena.(Ejemplo error)"
      ]
    },
    {
      "cell_type": "code",
      "metadata": {
        "id": "F_FpWnbpuChH",
        "outputId": "5c0afcae-d501-4223-9ced-ebf4608eab29",
        "colab": {
          "base_uri": "https://localhost:8080/",
          "height": 198
        }
      },
      "source": [
        "v1=\"quiero\"\n",
        "v2=\"un celular\"\n",
        "print(v1-v2)"
      ],
      "execution_count": 8,
      "outputs": [
        {
          "output_type": "error",
          "ename": "TypeError",
          "evalue": "ignored",
          "traceback": [
            "\u001b[0;31m---------------------------------------------------------------------------\u001b[0m",
            "\u001b[0;31mTypeError\u001b[0m                                 Traceback (most recent call last)",
            "\u001b[0;32m<ipython-input-8-295a9c85bfa9>\u001b[0m in \u001b[0;36m<module>\u001b[0;34m()\u001b[0m\n\u001b[1;32m      1\u001b[0m \u001b[0mv1\u001b[0m\u001b[0;34m=\u001b[0m\u001b[0;34m\"quiero\"\u001b[0m\u001b[0;34m\u001b[0m\u001b[0;34m\u001b[0m\u001b[0m\n\u001b[1;32m      2\u001b[0m \u001b[0mv2\u001b[0m\u001b[0;34m=\u001b[0m\u001b[0;34m\"un celular\"\u001b[0m\u001b[0;34m\u001b[0m\u001b[0;34m\u001b[0m\u001b[0m\n\u001b[0;32m----> 3\u001b[0;31m \u001b[0mprint\u001b[0m\u001b[0;34m(\u001b[0m\u001b[0mv1\u001b[0m\u001b[0;34m-\u001b[0m\u001b[0mv2\u001b[0m\u001b[0;34m)\u001b[0m\u001b[0;34m\u001b[0m\u001b[0;34m\u001b[0m\u001b[0m\n\u001b[0m",
            "\u001b[0;31mTypeError\u001b[0m: unsupported operand type(s) for -: 'str' and 'str'"
          ]
        }
      ]
    },
    {
      "cell_type": "code",
      "metadata": {
        "id": "76Rif-Qguf2D"
      },
      "source": [
        ""
      ],
      "execution_count": null,
      "outputs": []
    }
  ]
}