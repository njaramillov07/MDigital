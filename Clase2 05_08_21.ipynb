{
  "nbformat": 4,
  "nbformat_minor": 0,
  "metadata": {
    "colab": {
      "name": "Clase05/08/21.ipynb",
      "provenance": [],
      "include_colab_link": true
    },
    "kernelspec": {
      "name": "python3",
      "display_name": "Python 3"
    },
    "language_info": {
      "name": "python"
    }
  },
  "cells": [
    {
      "cell_type": "markdown",
      "metadata": {
        "id": "view-in-github",
        "colab_type": "text"
      },
      "source": [
        "<a href=\"https://colab.research.google.com/github/njaramillov07/MDigital/blob/main/Clase2%2005_08_21.ipynb\" target=\"_parent\"><img src=\"https://colab.research.google.com/assets/colab-badge.svg\" alt=\"Open In Colab\"/></a>"
      ]
    },
    {
      "cell_type": "markdown",
      "metadata": {
        "id": "eUPyZF5plfEA"
      },
      "source": [
        "\n",
        "\n",
        "**Operadores Aritmeticos**\n",
        "\n",
        "\n",
        "---\n",
        "Los operadores permiten realizar diferentes procesos de calculo en cualquier lenguaje de programación.\n",
        "\n",
        "Los operadores más basicos son:\n",
        "1. Suma\n",
        "2. Resta\n",
        "3. Multiplicacion\n",
        "4. División\n"
      ]
    },
    {
      "cell_type": "markdown",
      "metadata": {
        "id": "0lSMxxk4mvwN"
      },
      "source": [
        "**Suma**\n",
        "\n",
        "\n",
        "---\n",
        "símbolo suma(+) el cual se utilizara en medio de la declaración de las variables a operar.\n",
        "\n",
        "símbolo resta(-)"
      ]
    },
    {
      "cell_type": "code",
      "metadata": {
        "id": "WdNuLCCCnDCN",
        "colab": {
          "base_uri": "https://localhost:8080/"
        },
        "outputId": "4d2e5bca-8ffe-472e-8b67-3c56f602e8fd"
      },
      "source": [
        "print(10+300)\n",
        "a=20\n",
        "b=35\n",
        "print(a+b)\n",
        "\n",
        "print(10-300)\n",
        "print(a-b)"
      ],
      "execution_count": null,
      "outputs": [
        {
          "output_type": "stream",
          "text": [
            "310\n",
            "55\n",
            "-290\n",
            "-15\n"
          ],
          "name": "stdout"
        }
      ]
    },
    {
      "cell_type": "code",
      "metadata": {
        "id": "N8FNz5PynprO",
        "colab": {
          "base_uri": "https://localhost:8080/"
        },
        "outputId": "7c080ee2-816f-40b1-a01c-e69fce892c25"
      },
      "source": [
        "numero_botellas=12\n",
        "print(numero_botellas + 8)"
      ],
      "execution_count": null,
      "outputs": [
        {
          "output_type": "stream",
          "text": [
            "20\n"
          ],
          "name": "stdout"
        }
      ]
    },
    {
      "cell_type": "code",
      "metadata": {
        "id": "KL8Xq3Zin2WP",
        "colab": {
          "base_uri": "https://localhost:8080/"
        },
        "outputId": "729a999f-3900-408f-82a5-73fce11f35b5"
      },
      "source": [
        "numero_botellas=12\n",
        "numero_botellas=numero_botellas + 8\n",
        "print(numero_botellas)"
      ],
      "execution_count": null,
      "outputs": [
        {
          "output_type": "stream",
          "text": [
            "20\n"
          ],
          "name": "stdout"
        }
      ]
    },
    {
      "cell_type": "markdown",
      "metadata": {
        "id": "XwuVoEWvoXAj"
      },
      "source": [
        "**sumas entre los diferentes tipos de variables**\n",
        "\n",
        "\n",
        "---\n",
        "Recordemos los tipos de variables vistos en la clase de ayer:\n",
        "1. Declaracion de variables numericas enteros.\n",
        "2. Flotantes(incorpora y flexibiliza los decimales)\n",
        "3. Tipo cadena\n"
      ]
    },
    {
      "cell_type": "code",
      "metadata": {
        "id": "HzpTeMCRovxV",
        "colab": {
          "base_uri": "https://localhost:8080/"
        },
        "outputId": "1af0b225-bbe8-42a4-f09a-dfa48d4f3cfa"
      },
      "source": [
        "q1=100\n",
        "q2=24.5\n",
        "print(type(q1))\n",
        "print(type(q2))\n",
        "print(type(q1+q2))\n"
      ],
      "execution_count": 1,
      "outputs": [
        {
          "output_type": "stream",
          "text": [
            "<class 'int'>\n",
            "<class 'float'>\n",
            "<class 'float'>\n"
          ],
          "name": "stdout"
        }
      ]
    },
    {
      "cell_type": "code",
      "metadata": {
        "id": "EFp4z-ymqevV",
        "colab": {
          "base_uri": "https://localhost:8080/"
        },
        "outputId": "5cecb97b-3820-4cb4-8432-4492a6dc2845"
      },
      "source": [
        "xq2=235\n",
        "xq3=400\n",
        "print(xq2-xq3)"
      ],
      "execution_count": 2,
      "outputs": [
        {
          "output_type": "stream",
          "text": [
            "-165\n"
          ],
          "name": "stdout"
        }
      ]
    },
    {
      "cell_type": "code",
      "metadata": {
        "colab": {
          "base_uri": "https://localhost:8080/"
        },
        "id": "iG59Im5vsnYz",
        "outputId": "cc334f18-89fe-42d8-a49b-9e6b508ec42b"
      },
      "source": [
        "v1=\"quiero\"\n",
        "v2=\"un celular\"\n",
        "v3=v1+\" \"+v2\n",
        "print(v1+v2)\n",
        "print(v3)"
      ],
      "execution_count": 4,
      "outputs": [
        {
          "output_type": "stream",
          "text": [
            "quieroun celular\n",
            "quiero un celular\n"
          ],
          "name": "stdout"
        }
      ]
    },
    {
      "cell_type": "code",
      "metadata": {
        "colab": {
          "base_uri": "https://localhost:8080/"
        },
        "id": "wBh7FhDstDwX",
        "outputId": "7485fecf-efe4-4dd0-9295-ec750690e3c5"
      },
      "source": [
        "xq2=235\n",
        "xq3=400\n",
        "print(xq2-xq3)\n",
        "print(int(xq2-xq3))\n",
        "\n",
        "xq2=24.66\n",
        "xq3=4\n",
        "print(type(xq2-xq3))"
      ],
      "execution_count": 7,
      "outputs": [
        {
          "output_type": "stream",
          "text": [
            "-165\n",
            "-165\n",
            "<class 'float'>\n"
          ],
          "name": "stdout"
        }
      ]
    },
    {
      "cell_type": "markdown",
      "metadata": {
        "id": "AE7gaqjEtzTQ"
      },
      "source": [
        "**IMPORTANTE**\n",
        "La resta no funciona directamente para varable tipo cadena.(Ejemplo error)"
      ]
    },
    {
      "cell_type": "code",
      "metadata": {
        "colab": {
          "base_uri": "https://localhost:8080/",
          "height": 198
        },
        "id": "F_FpWnbpuChH",
        "outputId": "5c0afcae-d501-4223-9ced-ebf4608eab29"
      },
      "source": [
        "v1=\"quiero\"\n",
        "v2=\"un celular\"\n",
        "print(v1-v2)"
      ],
      "execution_count": 8,
      "outputs": [
        {
          "output_type": "error",
          "ename": "TypeError",
          "evalue": "ignored",
          "traceback": [
            "\u001b[0;31m---------------------------------------------------------------------------\u001b[0m",
            "\u001b[0;31mTypeError\u001b[0m                                 Traceback (most recent call last)",
            "\u001b[0;32m<ipython-input-8-295a9c85bfa9>\u001b[0m in \u001b[0;36m<module>\u001b[0;34m()\u001b[0m\n\u001b[1;32m      1\u001b[0m \u001b[0mv1\u001b[0m\u001b[0;34m=\u001b[0m\u001b[0;34m\"quiero\"\u001b[0m\u001b[0;34m\u001b[0m\u001b[0;34m\u001b[0m\u001b[0m\n\u001b[1;32m      2\u001b[0m \u001b[0mv2\u001b[0m\u001b[0;34m=\u001b[0m\u001b[0;34m\"un celular\"\u001b[0m\u001b[0;34m\u001b[0m\u001b[0;34m\u001b[0m\u001b[0m\n\u001b[0;32m----> 3\u001b[0;31m \u001b[0mprint\u001b[0m\u001b[0;34m(\u001b[0m\u001b[0mv1\u001b[0m\u001b[0;34m-\u001b[0m\u001b[0mv2\u001b[0m\u001b[0;34m)\u001b[0m\u001b[0;34m\u001b[0m\u001b[0;34m\u001b[0m\u001b[0m\n\u001b[0m",
            "\u001b[0;31mTypeError\u001b[0m: unsupported operand type(s) for -: 'str' and 'str'"
          ]
        }
      ]
    },
    {
      "cell_type": "markdown",
      "metadata": {
        "id": "Dvg6EUjPu_m0"
      },
      "source": [
        "**Multiplicación**\n",
        "\n",
        "\n",
        "---\n",
        "Definamos la multiplicacion como la suma de varias veces un número, cantidad de veces indicadas por el otro número. Ejemplo: 4x2=4+4=8\n",
        "\n",
        "El simbolo que manejaria es (*)\n"
      ]
    },
    {
      "cell_type": "code",
      "metadata": {
        "colab": {
          "base_uri": "https://localhost:8080/"
        },
        "id": "RtXfOM0avXq0",
        "outputId": "adfc5028-29c4-45d0-cc4a-a233a2cc4a84"
      },
      "source": [
        "cali=5\n",
        "palmira=6\n",
        "print(cali*palmira)"
      ],
      "execution_count": 9,
      "outputs": [
        {
          "output_type": "stream",
          "text": [
            "30\n"
          ],
          "name": "stdout"
        }
      ]
    },
    {
      "cell_type": "markdown",
      "metadata": {
        "id": "ixhre9SBvo5b"
      },
      "source": [
        "**IMPORTANTE**\n",
        "Se aplica la ley conmutativa.\n",
        "Recordemos que la ley conmutativa es que el orden de los factores no altera el resultado (Aplica para suma y multiplicacion)"
      ]
    },
    {
      "cell_type": "code",
      "metadata": {
        "colab": {
          "base_uri": "https://localhost:8080/"
        },
        "id": "HjqcO0e5yCGr",
        "outputId": "5955a66e-123c-410e-ac34-91898c5e794f"
      },
      "source": [
        "cali=5\n",
        "palmira=6\n",
        "print(palmira*cali)"
      ],
      "execution_count": 10,
      "outputs": [
        {
          "output_type": "stream",
          "text": [
            "30\n"
          ],
          "name": "stdout"
        }
      ]
    },
    {
      "cell_type": "markdown",
      "metadata": {
        "id": "k4JpiWduyPtJ"
      },
      "source": [
        "**Division**\n",
        "\n",
        "\n",
        "---\n",
        "ACLARACION: **NO** aplica la ley conmutativa. El simbolo de division (/).\n"
      ]
    },
    {
      "cell_type": "code",
      "metadata": {
        "colab": {
          "base_uri": "https://localhost:8080/"
        },
        "id": "cSCmso_OycNW",
        "outputId": "6a300ac8-473f-4cda-9c7e-cdc9d7653a32"
      },
      "source": [
        "a=20\n",
        "b=4\n",
        "print(a/b)\n",
        "print(20/4)\n",
        "print(a/b, b/a, a-b)"
      ],
      "execution_count": 14,
      "outputs": [
        {
          "output_type": "stream",
          "text": [
            "5.0\n",
            "5.0\n",
            "5.0 0.2 16\n"
          ],
          "name": "stdout"
        }
      ]
    },
    {
      "cell_type": "markdown",
      "metadata": {
        "id": "oM0tWidmzA1E"
      },
      "source": [
        "Para el **print** podemos separar las operaciones por variables con (,). Lo cual, no afecta la impresion de los resultados por operación asignada."
      ]
    },
    {
      "cell_type": "markdown",
      "metadata": {
        "id": "z3DfJ2VNzhlS"
      },
      "source": [
        "**Tipos de Division**\n",
        "\n",
        "\n",
        "---\n",
        "1. Division exacta (//)\n",
        "2. Division inexacta (/)\n",
        "\n"
      ]
    },
    {
      "cell_type": "code",
      "metadata": {
        "colab": {
          "base_uri": "https://localhost:8080/"
        },
        "id": "DzfB1Kmtz0AU",
        "outputId": "ea622cae-3cd8-42c9-e121-ebf979addf4c"
      },
      "source": [
        "print(15/3)\n",
        "print(15/4)\n",
        "print(15//4)"
      ],
      "execution_count": 18,
      "outputs": [
        {
          "output_type": "stream",
          "text": [
            "5.0\n",
            "3.75\n",
            "3\n"
          ],
          "name": "stdout"
        }
      ]
    },
    {
      "cell_type": "markdown",
      "metadata": {
        "id": "GiFXhTvs0W-s"
      },
      "source": [
        "Nota: operación de división, al igual que una division normal, **NO** es posible dividir entre cero, Porque en matematicas es un resultado indefinido."
      ]
    },
    {
      "cell_type": "markdown",
      "metadata": {
        "id": "THJvDMAZ0wc9"
      },
      "source": [
        "4. Potenciación \n",
        "5. Módulo"
      ]
    },
    {
      "cell_type": "markdown",
      "metadata": {
        "id": "XevVDNLy0-XY"
      },
      "source": [
        "**Potenciacion**\n",
        "\n",
        "---\n",
        "En python el simbolo es (**).\n",
        "\n",
        "El primer valor es la base y el ultimo valor el exponente.\n"
      ]
    },
    {
      "cell_type": "code",
      "metadata": {
        "colab": {
          "base_uri": "https://localhost:8080/"
        },
        "id": "zXU9U0Of1KOq",
        "outputId": "f4a9a246-ef7a-489e-edb3-2ff90cbe228c"
      },
      "source": [
        "print(3**3)\n",
        "print(2**4)"
      ],
      "execution_count": 20,
      "outputs": [
        {
          "output_type": "stream",
          "text": [
            "27\n",
            "16\n"
          ],
          "name": "stdout"
        }
      ]
    },
    {
      "cell_type": "markdown",
      "metadata": {
        "id": "pEN2pFDt1bLq"
      },
      "source": [
        "**Módulo**\n",
        "\n",
        "---\n",
        "Le llamamos módulo al residuo de la operación de división.\n",
        "\n",
        "El simbolo usado para mostrar el residuo es (%)\n",
        "\n",
        "El primer valor es el dividendo y el ultimo valor es el divisor.\n"
      ]
    },
    {
      "cell_type": "code",
      "metadata": {
        "colab": {
          "base_uri": "https://localhost:8080/"
        },
        "id": "EI7c0-Gz1wpz",
        "outputId": "dbe2634b-197b-40a4-f776-c64e8650475f"
      },
      "source": [
        "print(88%9)"
      ],
      "execution_count": 22,
      "outputs": [
        {
          "output_type": "stream",
          "text": [
            "7\n"
          ],
          "name": "stdout"
        }
      ]
    },
    {
      "cell_type": "markdown",
      "metadata": {
        "id": "tB92Ct_F6-Fu"
      },
      "source": [
        "**Operadores de Comparacion**\n",
        "\n",
        "---\n",
        "Los operadores de comparacion, sirven para comparar varios valores.\n",
        "\n",
        "En la vida cotidiana a la hora de tomar decisiones tenemos que decidir entre un camino u otro, ejemplo: compras, decisiones de vida, cominos por recorrer.\n"
      ]
    },
    {
      "cell_type": "markdown",
      "metadata": {
        "id": "jm9rQs4e8jBG"
      },
      "source": [
        "**Igualdad**\n",
        "\n",
        "---\n",
        "Simbolo en Python es (==)"
      ]
    },
    {
      "cell_type": "code",
      "metadata": {
        "colab": {
          "base_uri": "https://localhost:8080/"
        },
        "id": "6qZHUBAJ8qik",
        "outputId": "f0921dfa-9232-4b6c-9216-4163b8a2319d"
      },
      "source": [
        "x=30\n",
        "z=31\n",
        "print(x==z)"
      ],
      "execution_count": 24,
      "outputs": [
        {
          "output_type": "stream",
          "text": [
            "False\n"
          ],
          "name": "stdout"
        }
      ]
    },
    {
      "cell_type": "code",
      "metadata": {
        "colab": {
          "base_uri": "https://localhost:8080/"
        },
        "id": "Ejkw-GUe8y2S",
        "outputId": "22760aa4-b76f-4338-eedc-5ab18a415bd7"
      },
      "source": [
        "x=\"casa\"\n",
        "z=\"caza\"\n",
        "print(x==z)"
      ],
      "execution_count": 26,
      "outputs": [
        {
          "output_type": "stream",
          "text": [
            "False\n"
          ],
          "name": "stdout"
        }
      ]
    },
    {
      "cell_type": "markdown",
      "metadata": {
        "id": "3zTt4KED-jn1"
      },
      "source": [
        "**Diferencia**\n",
        "\n",
        "---\n",
        "A diferencia del operador de igualdad el simbolo esta combinado por el simbolo de admiracion, es decir, (!=)\n"
      ]
    },
    {
      "cell_type": "code",
      "metadata": {
        "colab": {
          "base_uri": "https://localhost:8080/"
        },
        "id": "BXO8OYZ8_A0U",
        "outputId": "705ee1f0-4cba-4ba5-c5e5-5bf1cd6361b1"
      },
      "source": [
        "x=\"casa\"\n",
        "z=\"caza\"\n",
        "print(x!=z)"
      ],
      "execution_count": 28,
      "outputs": [
        {
          "output_type": "stream",
          "text": [
            "True\n"
          ],
          "name": "stdout"
        }
      ]
    },
    {
      "cell_type": "markdown",
      "metadata": {
        "id": "VgZdc8Gr_Oku"
      },
      "source": [
        "**Mayor que**\n",
        "\n",
        "---\n",
        "Simbolo en Python(>)\n",
        "Simpre en comparativa se designa cual es menor o el mayor, por el valor que esta a la izquierda de la operacion.\n"
      ]
    },
    {
      "cell_type": "code",
      "metadata": {
        "colab": {
          "base_uri": "https://localhost:8080/"
        },
        "id": "SeuotQG__Ysw",
        "outputId": "bfddc490-00c7-4bd0-dff1-65710fdc77da"
      },
      "source": [
        "print(30>29.8)\n",
        "print(20>10)"
      ],
      "execution_count": 30,
      "outputs": [
        {
          "output_type": "stream",
          "text": [
            "True\n",
            "True\n"
          ],
          "name": "stdout"
        }
      ]
    },
    {
      "cell_type": "markdown",
      "metadata": {
        "id": "d81Agtpj_8qp"
      },
      "source": [
        "**Menor que**\n",
        "\n",
        "---\n",
        "Caso contrario el simbolo es (<).\n"
      ]
    },
    {
      "cell_type": "code",
      "metadata": {
        "colab": {
          "base_uri": "https://localhost:8080/"
        },
        "id": "uLtp8sWwADkp",
        "outputId": "b84278fe-a9aa-4c22-97fb-7ef8d87f0af4"
      },
      "source": [
        "x=4\n",
        "y=3\n",
        "print(x<y)"
      ],
      "execution_count": 31,
      "outputs": [
        {
          "output_type": "stream",
          "text": [
            "False\n"
          ],
          "name": "stdout"
        }
      ]
    },
    {
      "cell_type": "markdown",
      "metadata": {
        "id": "Ji9rtlPjAP5r"
      },
      "source": [
        "**Mayor o igual que**\n",
        "\n",
        "---\n",
        "El simbolo al mayor que, con la diferencia de que la forma me dara resultado verdadero es si ambos son iguales y flexibiliza dado verdadero de igual forma si el valor de la izquierda es mayor que el de la deracha. El simbolo es (>=)\n"
      ]
    },
    {
      "cell_type": "code",
      "metadata": {
        "colab": {
          "base_uri": "https://localhost:8080/"
        },
        "id": "UiC4NK9yA5_I",
        "outputId": "d7744b06-edc9-48da-f78d-136fc168d4f0"
      },
      "source": [
        "x=10\n",
        "y=10\n",
        "print(x>=y)\n",
        "x=10\n",
        "y=5\n",
        "print(x>=y)"
      ],
      "execution_count": 33,
      "outputs": [
        {
          "output_type": "stream",
          "text": [
            "True\n",
            "True\n"
          ],
          "name": "stdout"
        }
      ]
    },
    {
      "cell_type": "markdown",
      "metadata": {
        "id": "FWABp_JtBTV1"
      },
      "source": [
        "**Menor o igual que**\n",
        "\n",
        "---\n",
        "El simbolo es (<=)\n"
      ]
    },
    {
      "cell_type": "code",
      "metadata": {
        "colab": {
          "base_uri": "https://localhost:8080/"
        },
        "id": "sezN_4cgBaJL",
        "outputId": "f8f9e537-eb7c-4bbc-bfe8-8f31c4500ee7"
      },
      "source": [
        "c=45\n",
        "print(c<=46)"
      ],
      "execution_count": 34,
      "outputs": [
        {
          "output_type": "stream",
          "text": [
            "True\n"
          ],
          "name": "stdout"
        }
      ]
    },
    {
      "cell_type": "markdown",
      "metadata": {
        "id": "iJixTFH4Bl5U"
      },
      "source": [
        "**Tener en cuenta.** En comparaciones los resultados que nos arrojan siempre es de tipo Booleabo, es decir: True or False (verdadero o falso)."
      ]
    },
    {
      "cell_type": "markdown",
      "metadata": {
        "id": "mWC8jWIwCFdD"
      },
      "source": [
        "**OPERADORES LOGICOS**\n",
        "\n",
        "---\n",
        "Python incluye tres operadores logicos basicos base:\n",
        "1. AND (y)\n",
        "2. OR (o)\n",
        "3. NOT (no)\n",
        "\n",
        "Los operadores logicos funcionan solo con valores o variables booleanas, a su vez, devuelven como respuesta valores boolenos.\n"
      ]
    },
    {
      "cell_type": "markdown",
      "metadata": {
        "id": "JQKOHwb-CzEO"
      },
      "source": [
        "**Operador AND**\n",
        "\n",
        "---\n",
        "Este operador solo devolvera (verdadero) si ambos valores los son.\n",
        "\n",
        "Como usar el operador AND?\n",
        "\n",
        "Para usar este operador basta con escribir un valor booleano, luego, la palabra \"and\" y por ultimo otro valor booleano.\n",
        "\n"
      ]
    },
    {
      "cell_type": "code",
      "metadata": {
        "id": "78hP9t6rDN8X",
        "outputId": "6c1bbdaf-6c5e-42f5-fda3-d486a403b8bd",
        "colab": {
          "base_uri": "https://localhost:8080/"
        }
      },
      "source": [
        "print(True and False)"
      ],
      "execution_count": 36,
      "outputs": [
        {
          "output_type": "stream",
          "text": [
            "False\n"
          ],
          "name": "stdout"
        }
      ]
    },
    {
      "cell_type": "markdown",
      "metadata": {
        "id": "Z2jOY14vDZX3"
      },
      "source": [
        "**Ejercicio 2 de contextualizacion**\n",
        "1. True and True = True\n",
        "2. True and False = False\n",
        "3. False and False = False\n",
        "4. False and True = False"
      ]
    },
    {
      "cell_type": "markdown",
      "metadata": {
        "id": "-pSiSkstD1QP"
      },
      "source": [
        "**Operador OR**\n",
        "\n",
        "---\n",
        "A diferencia del operador AND, OR devuelve a todo verdadero a menos de que ambos valores sean **FALSOS**\n"
      ]
    },
    {
      "cell_type": "code",
      "metadata": {
        "id": "Qk6nHwegEJAd",
        "outputId": "b16ef5f5-2cb0-4893-ac02-8d43944e37e0",
        "colab": {
          "base_uri": "https://localhost:8080/"
        }
      },
      "source": [
        "print(True or False)\n",
        "print(False or False)"
      ],
      "execution_count": 37,
      "outputs": [
        {
          "output_type": "stream",
          "text": [
            "True\n",
            "False\n"
          ],
          "name": "stdout"
        }
      ]
    },
    {
      "cell_type": "markdown",
      "metadata": {
        "id": "VEWfT9RbETjf"
      },
      "source": [
        "Ejercicio de contextualizacion de OR**\n",
        "\n",
        "1. False and False = False\n",
        "2. True and True = True\n",
        "3. True and False = True\n",
        "4. False and True = True"
      ]
    },
    {
      "cell_type": "code",
      "metadata": {
        "id": "klF3bJpfE07j",
        "outputId": "531e6815-57c8-445d-d60f-59f1b18622b7",
        "colab": {
          "base_uri": "https://localhost:8080/"
        }
      },
      "source": [
        "a=3\n",
        "b=2\n",
        "print(a>4 or a==4)\n",
        "print(b==b and a>=b)"
      ],
      "execution_count": 40,
      "outputs": [
        {
          "output_type": "stream",
          "text": [
            "False\n",
            "True\n"
          ],
          "name": "stdout"
        }
      ]
    },
    {
      "cell_type": "markdown",
      "metadata": {
        "id": "GVPVLaMnFYzH"
      },
      "source": [
        "**Operador NOT**\n",
        "\n",
        "---\n",
        "Este operador es negacion, en español \"no\". Este operador es muy especial, dado que por si solo no sirve para hacer ninguna operacion, lo unico que hace es negar, o en palabras mas simples, invertir el valor booleano que viene despues de el.\n"
      ]
    },
    {
      "cell_type": "code",
      "metadata": {
        "id": "uYAlF6HqGMo6",
        "outputId": "bdc0d3db-85dc-4d6d-fa63-48c20f776c18",
        "colab": {
          "base_uri": "https://localhost:8080/"
        }
      },
      "source": [
        "print(not False)\n",
        "print(not True)"
      ],
      "execution_count": 41,
      "outputs": [
        {
          "output_type": "stream",
          "text": [
            "True\n",
            "False\n"
          ],
          "name": "stdout"
        }
      ]
    }
  ]
}