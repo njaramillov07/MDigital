{
  "nbformat": 4,
  "nbformat_minor": 0,
  "metadata": {
    "colab": {
      "name": "Clase6 11/08/2021.ipynb",
      "provenance": [],
      "include_colab_link": true
    },
    "kernelspec": {
      "name": "python3",
      "display_name": "Python 3"
    },
    "language_info": {
      "name": "python"
    }
  },
  "cells": [
    {
      "cell_type": "markdown",
      "metadata": {
        "id": "view-in-github",
        "colab_type": "text"
      },
      "source": [
        "<a href=\"https://colab.research.google.com/github/njaramillov07/MDigital/blob/main/Clase6_11_08_2021.ipynb\" target=\"_parent\"><img src=\"https://colab.research.google.com/assets/colab-badge.svg\" alt=\"Open In Colab\"/></a>"
      ]
    },
    {
      "cell_type": "markdown",
      "metadata": {
        "id": "txjtgMD7p1Mv"
      },
      "source": [
        "**CONTINUACION DE LOS EJEMPLOS DEL USO DE LISTA DE COMPRENSION**\n",
        "\n",
        "\n",
        "---\n",
        "COMPRENSION DE CONJUNTOS\n",
        "\n",
        "---\n",
        "La comprension de conjuntos es muy similar a la que veniamos manejando con listas. La única diferencia es que se usa los {}.\n",
        "\n",
        "Recordemos que los conjuntos tambien denominados *sets* no permiten duplicados, es decir, cada elemento es unico. Si se llega añadir un elemento repetitivo no arrojara error, pero no se moestrara en el print.\n",
        "\n"
      ]
    },
    {
      "cell_type": "code",
      "metadata": {
        "id": "cMEnO09DeZdN"
      },
      "source": [
        ""
      ],
      "execution_count": null,
      "outputs": []
    }
  ]
}