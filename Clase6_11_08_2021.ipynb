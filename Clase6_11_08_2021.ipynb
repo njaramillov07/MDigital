{
  "nbformat": 4,
  "nbformat_minor": 0,
  "metadata": {
    "colab": {
      "name": "Clase6 11/08/2021.ipynb",
      "provenance": [],
      "include_colab_link": true
    },
    "kernelspec": {
      "name": "python3",
      "display_name": "Python 3"
    },
    "language_info": {
      "name": "python"
    }
  },
  "cells": [
    {
      "cell_type": "markdown",
      "metadata": {
        "id": "view-in-github",
        "colab_type": "text"
      },
      "source": [
        "<a href=\"https://colab.research.google.com/github/njaramillov07/MDigital/blob/main/Clase6_11_08_2021.ipynb\" target=\"_parent\"><img src=\"https://colab.research.google.com/assets/colab-badge.svg\" alt=\"Open In Colab\"/></a>"
      ]
    },
    {
      "cell_type": "markdown",
      "metadata": {
        "id": "txjtgMD7p1Mv"
      },
      "source": [
        "**CONTINUACION DE LOS EJEMPLOS DEL USO DE LISTA DE COMPRENSION**\n",
        "\n",
        "\n",
        "---\n",
        "COMPRENSION DE CONJUNTOS\n",
        "\n",
        "---\n",
        "La comprension de conjuntos es muy similar a la que veniamos manejando con listas. La única diferencia es que se usa los {}.\n",
        "\n",
        "Recordemos que los conjuntos tambien denominados *sets* no permiten duplicados, es decir, cada elemento es unico. Si se llega añadir un elemento repetitivo no arrojara error, pero no se moestrara en el print.\n",
        "\n"
      ]
    },
    {
      "cell_type": "code",
      "metadata": {
        "id": "cMEnO09DeZdN",
        "colab": {
          "base_uri": "https://localhost:8080/"
        },
        "outputId": "c2ec2558-ef4e-4884-ae73-1f7c45e0963e"
      },
      "source": [
        "sa=\"Emma ama a mama\"\n",
        "sa2={i for i in sa if i==\"m\"} #conjunto\n",
        "print(sa2)\n",
        "\n",
        "sa=\"Emma ama a mama\"\n",
        "sa2=[i for i in sa if i==\"m\"] #lista\n",
        "print(sa2)"
      ],
      "execution_count": null,
      "outputs": [
        {
          "output_type": "stream",
          "text": [
            "{'m'}\n",
            "['m', 'm', 'm', 'm', 'm']\n"
          ],
          "name": "stdout"
        }
      ]
    },
    {
      "cell_type": "markdown",
      "metadata": {
        "id": "eWUt8mWhsAk_"
      },
      "source": [
        "Ahora veamos a continuacion el caso de diccionarios de comprension. La unica diferencia que tiene respecto a las listas o conjuntos de comprension es la especificacion de llaves o claves(key)."
      ]
    },
    {
      "cell_type": "code",
      "metadata": {
        "colab": {
          "base_uri": "https://localhost:8080/"
        },
        "id": "ZwjayRsRsXao",
        "outputId": "3b388fd3-ceb8-4d47-d9ec-327b036c51f9"
      },
      "source": [
        "lista1=['nombre', 'apellido', 'ciudad']\n",
        "lista2=['ana', 'rodriguez', 'popayan']\n",
        "\n",
        "dic={i:j for i,j in zip(lista1,lista2)}\n",
        "print(dic)"
      ],
      "execution_count": null,
      "outputs": [
        {
          "output_type": "stream",
          "text": [
            "{'nombre': 'ana', 'apellido': 'rodriguez', 'ciudad': 'popayan'}\n"
          ],
          "name": "stdout"
        }
      ]
    },
    {
      "cell_type": "markdown",
      "metadata": {
        "id": "NX2O7xx5tb1B"
      },
      "source": [
        "Pudimos observar que añadiendo los dos puntos (:) asignamos un valor a la llave declarada, a su vez, usamos zip() el cual tiene como funcion iterar dos listas en paralelo. Es decir, con **zip** podemos convertir dos listas en un diccionario y el **for** se manejaria iterando los valores en simultaneo."
      ]
    },
    {
      "cell_type": "markdown",
      "metadata": {
        "id": "uYh4sVJHuHMQ"
      },
      "source": [
        "**OTRAS ESTRUCTURAS DE CONTROL**\n",
        "\n",
        "---\n",
        "1. Switch\n",
        "2. Break\n",
        "3. Continue\n",
        "4. Complemento de iteracion (Enumerate).\n",
        "\n",
        "**1. SWITCH**\n",
        "\n",
        "El switch es una herramienta que permite ejecutar diferentes secciones de codigo, dependiendo de las condiciones impuestas. Su funcion es similar a usar **if** anidados o varios por separado al mismo tiempo.\n",
        "\n",
        "Sin embargo  en Python no hay un switch directo. \n",
        "\n",
        "**2. Break**\n",
        "\n",
        "Nos permite alterar el comportamiento de los ciclos de **while** y **for**. Directamento su funcion es la de finalizar los ciclos.\n",
        "\n"
      ]
    },
    {
      "cell_type": "code",
      "metadata": {
        "colab": {
          "base_uri": "https://localhost:8080/"
        },
        "id": "uLqRvKjJviZD",
        "outputId": "eda871a0-e46c-4e8c-f62a-0ced2b785076"
      },
      "source": [
        "x=\"Andrea\"\n",
        "for i in x:\n",
        "  if i==\"e\":\n",
        "    print(\"Se obtuvo la leta e\")\n",
        "    break #para que pare la iteracion\n",
        "print(i)"
      ],
      "execution_count": null,
      "outputs": [
        {
          "output_type": "stream",
          "text": [
            "Se obtuvo la leta e\n",
            "e\n"
          ],
          "name": "stdout"
        }
      ]
    },
    {
      "cell_type": "code",
      "metadata": {
        "colab": {
          "base_uri": "https://localhost:8080/"
        },
        "id": "gCAngD4wwptr",
        "outputId": "b1a6cd2f-3948-4823-c9bd-16e167d07c9b"
      },
      "source": [
        "x=15\n",
        "while True:\n",
        "  x -=1\n",
        "  print(x)\n",
        "  if x==0:\n",
        "    break\n",
        "  print(\"Se finalizo ciclo\")\n",
        "\n",
        "x=15\n",
        "while True:\n",
        "  x -=1\n",
        "  print(x)\n",
        "  if x==0:\n",
        "    break\n",
        "print(\"Se finalizo ciclo\")"
      ],
      "execution_count": null,
      "outputs": [
        {
          "output_type": "stream",
          "text": [
            "14\n",
            "Se finalizo ciclo\n",
            "13\n",
            "Se finalizo ciclo\n",
            "12\n",
            "Se finalizo ciclo\n",
            "11\n",
            "Se finalizo ciclo\n",
            "10\n",
            "Se finalizo ciclo\n",
            "9\n",
            "Se finalizo ciclo\n",
            "8\n",
            "Se finalizo ciclo\n",
            "7\n",
            "Se finalizo ciclo\n",
            "6\n",
            "Se finalizo ciclo\n",
            "5\n",
            "Se finalizo ciclo\n",
            "4\n",
            "Se finalizo ciclo\n",
            "3\n",
            "Se finalizo ciclo\n",
            "2\n",
            "Se finalizo ciclo\n",
            "1\n",
            "Se finalizo ciclo\n",
            "0\n",
            "14\n",
            "13\n",
            "12\n",
            "11\n",
            "10\n",
            "9\n",
            "8\n",
            "7\n",
            "6\n",
            "5\n",
            "4\n",
            "3\n",
            "2\n",
            "1\n",
            "0\n",
            "Se finalizo ciclo\n"
          ],
          "name": "stdout"
        }
      ]
    },
    {
      "cell_type": "code",
      "metadata": {
        "id": "VUFswdAhyXSk",
        "colab": {
          "base_uri": "https://localhost:8080/"
        },
        "outputId": "c57cc0c6-808b-40e7-c2bb-55525b419e41"
      },
      "source": [
        "##Uso de break con los ciclos anidado:\n",
        "\n",
        "for i in range(1,8):\n",
        "  for j in range(1,8):\n",
        "    break\n",
        "  print(i,j)\n",
        "\n",
        "#El break no afecta el for exterior, rompe el ciclo anidado en su conjunto, pero no afecta directamente el ciclo exterior.\n"
      ],
      "execution_count": null,
      "outputs": [
        {
          "output_type": "stream",
          "text": [
            "1 1\n",
            "2 1\n",
            "3 1\n",
            "4 1\n",
            "5 1\n",
            "6 1\n",
            "7 1\n"
          ],
          "name": "stdout"
        }
      ]
    },
    {
      "cell_type": "markdown",
      "metadata": {
        "id": "1diKcSKOzjr-"
      },
      "source": [
        "**2. CONTINUE**\n",
        "\n",
        "---\n",
        "El \"continue\" se salta todo el codigo restante en la iteracion actual y vuelve al principio en caso que queda elementos por iterar.\n",
        "\n",
        "**Diferencias entre break y continue.**\n",
        "\n",
        "La principal diferencia es que el *continue* no rompe el ciclo sino que pasa a la iteracion pendiente.\n"
      ]
    },
    {
      "cell_type": "code",
      "metadata": {
        "id": "yaN8Mtgm0Gko",
        "colab": {
          "base_uri": "https://localhost:8080/"
        },
        "outputId": "64f2c2d1-915b-4feb-e3d2-3016e2c5d9a6"
      },
      "source": [
        "x=\"Andrea\"\n",
        "for i in x:\n",
        "  if i==\"r\":\n",
        "    continue\n",
        "  print(i)"
      ],
      "execution_count": null,
      "outputs": [
        {
          "output_type": "stream",
          "text": [
            "A\n",
            "n\n",
            "d\n",
            "e\n",
            "a\n"
          ],
          "name": "stdout"
        }
      ]
    },
    {
      "cell_type": "code",
      "metadata": {
        "id": "qLorXjAP0lR2",
        "colab": {
          "base_uri": "https://localhost:8080/"
        },
        "outputId": "9e754981-a39e-4227-c741-d6509d8a529b"
      },
      "source": [
        "x=15\n",
        "while x>0:\n",
        "  x -=1\n",
        "  if x==3:\n",
        "    continue\n",
        "  print(x)"
      ],
      "execution_count": null,
      "outputs": [
        {
          "output_type": "stream",
          "text": [
            "14\n",
            "13\n",
            "12\n",
            "11\n",
            "10\n",
            "9\n",
            "8\n",
            "7\n",
            "6\n",
            "5\n",
            "4\n",
            "2\n",
            "1\n",
            "0\n"
          ],
          "name": "stdout"
        }
      ]
    },
    {
      "cell_type": "markdown",
      "metadata": {
        "id": "9MzfDiKH1Mn7"
      },
      "source": [
        "**Iterar con enumerate**\n",
        "\n",
        "---\n",
        "Python nos permite iterar colecciones de objetos y elementos de la misma forma. Sin embargo, hay una opcion que es que en algunas situaciones que queramos acceder a un elemento ordenado podemos hacerlo, nombrando el indice de cada elemento llamado.\n"
      ]
    },
    {
      "cell_type": "code",
      "metadata": {
        "id": "yH7jUS561utq",
        "colab": {
          "base_uri": "https://localhost:8080/"
        },
        "outputId": "93304e63-32c2-4087-f404-ae5cd65d18bc"
      },
      "source": [
        "w=[\"sa\", \"se\", \"si\", \"so\", \"su\"]\n",
        "indice=0\n",
        "for i in w:\n",
        "  print(indice,i)\n",
        "  indice +=1"
      ],
      "execution_count": null,
      "outputs": [
        {
          "output_type": "stream",
          "text": [
            "0 sa\n",
            "1 se\n",
            "2 si\n",
            "3 so\n",
            "4 su\n"
          ],
          "name": "stdout"
        }
      ]
    },
    {
      "cell_type": "code",
      "metadata": {
        "id": "1ntA3DGumGBq",
        "outputId": "33719b24-028b-4a78-b012-a1d8f8c28969",
        "colab": {
          "base_uri": "https://localhost:8080/"
        }
      },
      "source": [
        "w=[\"sa\", \"se\", \"si\", \"so\", \"su\"]\n",
        "for indice, i in enumerate(w):\n",
        "  print(indice,i)\n",
        "\n",
        "x=list(enumerate(w))\n",
        "print(x)"
      ],
      "execution_count": 2,
      "outputs": [
        {
          "output_type": "stream",
          "name": "stdout",
          "text": [
            "0 sa\n",
            "1 se\n",
            "2 si\n",
            "3 so\n",
            "4 su\n",
            "[(0, 'sa'), (1, 'se'), (2, 'si'), (3, 'so'), (4, 'su')]\n"
          ]
        }
      ]
    },
    {
      "cell_type": "markdown",
      "metadata": {
        "id": "ELZ-xYcUnS9B"
      },
      "source": [
        "**Uso zip()**\n",
        "\n",
        "---\n",
        "Si pasamos dos listas a **Zip**, el resultado sera una tupla donde cada elemento tendra todos y cada uno de los elementos de las entradas.\n",
        "\n"
      ]
    },
    {
      "cell_type": "code",
      "metadata": {
        "id": "SDPYOrFzn2EF",
        "outputId": "7de5aa36-add4-4e24-9491-0a7f954df5c8",
        "colab": {
          "base_uri": "https://localhost:8080/"
        }
      },
      "source": [
        "a=[1,2,3]\n",
        "b=[\"a\",\"b\",\"c\"]\n",
        "c=zip(a,b)\n",
        "print(list(c))\n",
        "\n",
        "for i, j in zip(a,b):\n",
        "  print(\"Numero\", i, \"letras\", j)"
      ],
      "execution_count": 6,
      "outputs": [
        {
          "output_type": "stream",
          "name": "stdout",
          "text": [
            "[(1, 'a'), (2, 'b'), (3, 'c')]\n",
            "Numero 1 letras a\n",
            "Numero 2 letras b\n",
            "Numero 3 letras c\n"
          ]
        }
      ]
    },
    {
      "cell_type": "code",
      "metadata": {
        "id": "fc11qe6UufI_",
        "outputId": "2aceb134-37ab-4728-8017-5bb498063e8c",
        "colab": {
          "base_uri": "https://localhost:8080/"
        }
      },
      "source": [
        "a=[1,2,3]\n",
        "b=[\"a\",\"b\",\"c\"]\n",
        "x=[\"q\",\"w\",\"e\"]\n",
        "z=[10,20,30]\n",
        "c=zip(a,b)\n",
        "print(list(c))\n",
        "\n",
        "for i, j, p, k in zip(a,b,x,z):\n",
        "  print(i, j, p, k)"
      ],
      "execution_count": 7,
      "outputs": [
        {
          "output_type": "stream",
          "name": "stdout",
          "text": [
            "[(1, 'a'), (2, 'b'), (3, 'c')]\n",
            "1 a q 10\n",
            "2 b w 20\n",
            "3 c e 30\n"
          ]
        }
      ]
    },
    {
      "cell_type": "code",
      "metadata": {
        "id": "4WCjyn2_vYCs",
        "outputId": "4445e25b-c67d-408f-dd90-63bb1b228b22",
        "colab": {
          "base_uri": "https://localhost:8080/"
        }
      },
      "source": [
        "a=[1,2,3]\n",
        "b=[\"a\",\"b\"]\n",
        "\n",
        "for i, j in zip(a,b):\n",
        "  print(i, j)"
      ],
      "execution_count": 8,
      "outputs": [
        {
          "output_type": "stream",
          "name": "stdout",
          "text": [
            "1 a\n",
            "2 b\n"
          ]
        }
      ]
    },
    {
      "cell_type": "code",
      "metadata": {
        "id": "12jWEdo4wGRr",
        "outputId": "0f97eed2-20ff-493f-f621-911eae7ffa0c",
        "colab": {
          "base_uri": "https://localhost:8080/"
        }
      },
      "source": [
        "c=[(1, 'a'), (2, 'b'), (3, 'c')]\n",
        "a,b=zip(*c)\n",
        "print(a)\n",
        "print(b)"
      ],
      "execution_count": 10,
      "outputs": [
        {
          "output_type": "stream",
          "name": "stdout",
          "text": [
            "(1, 2, 3)\n",
            "('a', 'b', 'c')\n"
          ]
        }
      ]
    },
    {
      "cell_type": "markdown",
      "metadata": {
        "id": "KbUpLkQixoP5"
      },
      "source": [
        "**FUNCIONES**\n",
        "\n",
        "---\n",
        "La funcion nos permite ordenar de manera adecuada la generacion de variables de objetos y bloques de codigo por ciclos y demas estructuras.\n",
        "\n",
        "La sintaxis es la siguiente:\n",
        "\n",
        "def nombre_funcion(argumentos):\n",
        "  codigo\n",
        "\n",
        "nombre_funcion(argumentos2):\n"
      ]
    },
    {
      "cell_type": "code",
      "metadata": {
        "id": "UF6_Fp2NyAW2",
        "outputId": "0aab8b93-348e-4162-ea3e-61e00a9e5e6c",
        "colab": {
          "base_uri": "https://localhost:8080/"
        }
      },
      "source": [
        "def f(a):\n",
        "  return 2*a\n",
        "y=f(3)\n",
        "print(y)"
      ],
      "execution_count": 12,
      "outputs": [
        {
          "output_type": "stream",
          "name": "stdout",
          "text": [
            "6\n"
          ]
        }
      ]
    },
    {
      "cell_type": "markdown",
      "metadata": {
        "id": "LDBtSsRVzRMw"
      },
      "source": [
        "Las funciones no solo realizan una operacion con sus entradas (argumentos de inicio), sino tambien parten de los siguientes principios:\n",
        "\n",
        "**1. Reusabilidad**, Si tenemos un fragmento de codigo usado en muchos sitios y se guarda en una funcion, nos evitara tener codigos repetidos, ademas de la conveniencia que tiene por ser facilmente editable.\n",
        "\n",
        "**2. Modularidad,** Permite legibilidad de forma mas sencilla, es decir, los largos bloques de codigo se pueden agrupar en modulos o funciones y la lectura va a ser mucho mas sencilla."
      ]
    },
    {
      "cell_type": "code",
      "metadata": {
        "id": "lpsdr_Ac0STT",
        "outputId": "3ad99af8-0886-43a9-a102-65631de4973d",
        "colab": {
          "base_uri": "https://localhost:8080/"
        }
      },
      "source": [
        "##Ejemplo 1: Funcion sin argumentos de entrada, ni parametros de salida.\n",
        "\n",
        "def s(): #Declaracion de funcion \n",
        "  print(\"Hi Luisa\")\n",
        "s() #Al cerrar la definicion de funcion me va aparecer la ejecucion del codigo.\n"
      ],
      "execution_count": 14,
      "outputs": [
        {
          "output_type": "stream",
          "name": "stdout",
          "text": [
            "Hi Luisa\n"
          ]
        }
      ]
    },
    {
      "cell_type": "code",
      "metadata": {
        "id": "07gIuLaj07mj",
        "outputId": "a53148c3-9436-4669-96a7-3a7129dfdb9d",
        "colab": {
          "base_uri": "https://localhost:8080/"
        }
      },
      "source": [
        "##Ejemplo 2: Incluir argumentos de entreda y salida.\n",
        "\n",
        "def s(apellido):\n",
        "  print(\"Hola Luisa\", apellido)\n",
        "s(\"Varon\")"
      ],
      "execution_count": 15,
      "outputs": [
        {
          "output_type": "stream",
          "name": "stdout",
          "text": [
            "Hola Luisa Varon\n"
          ]
        }
      ]
    }
  ]
}