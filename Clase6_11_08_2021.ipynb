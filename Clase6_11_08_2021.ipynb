{
  "nbformat": 4,
  "nbformat_minor": 0,
  "metadata": {
    "colab": {
      "name": "Clase6 11/08/2021.ipynb",
      "provenance": [],
      "include_colab_link": true
    },
    "kernelspec": {
      "name": "python3",
      "display_name": "Python 3"
    },
    "language_info": {
      "name": "python"
    }
  },
  "cells": [
    {
      "cell_type": "markdown",
      "metadata": {
        "id": "view-in-github",
        "colab_type": "text"
      },
      "source": [
        "<a href=\"https://colab.research.google.com/github/njaramillov07/MDigital/blob/main/Clase6_11_08_2021.ipynb\" target=\"_parent\"><img src=\"https://colab.research.google.com/assets/colab-badge.svg\" alt=\"Open In Colab\"/></a>"
      ]
    },
    {
      "cell_type": "markdown",
      "metadata": {
        "id": "txjtgMD7p1Mv"
      },
      "source": [
        "**CONTINUACION DE LOS EJEMPLOS DEL USO DE LISTA DE COMPRENSION**\n",
        "\n",
        "\n",
        "---\n",
        "COMPRENSION DE CONJUNTOS\n",
        "\n",
        "---\n",
        "La comprension de conjuntos es muy similar a la que veniamos manejando con listas. La única diferencia es que se usa los {}.\n",
        "\n",
        "Recordemos que los conjuntos tambien denominados *sets* no permiten duplicados, es decir, cada elemento es unico. Si se llega añadir un elemento repetitivo no arrojara error, pero no se moestrara en el print.\n",
        "\n"
      ]
    },
    {
      "cell_type": "code",
      "metadata": {
        "id": "cMEnO09DeZdN",
        "colab": {
          "base_uri": "https://localhost:8080/"
        },
        "outputId": "c2ec2558-ef4e-4884-ae73-1f7c45e0963e"
      },
      "source": [
        "sa=\"Emma ama a mama\"\n",
        "sa2={i for i in sa if i==\"m\"} #conjunto\n",
        "print(sa2)\n",
        "\n",
        "sa=\"Emma ama a mama\"\n",
        "sa2=[i for i in sa if i==\"m\"] #lista\n",
        "print(sa2)"
      ],
      "execution_count": 2,
      "outputs": [
        {
          "output_type": "stream",
          "text": [
            "{'m'}\n",
            "['m', 'm', 'm', 'm', 'm']\n"
          ],
          "name": "stdout"
        }
      ]
    },
    {
      "cell_type": "markdown",
      "metadata": {
        "id": "eWUt8mWhsAk_"
      },
      "source": [
        "Ahora veamos a continuacion el caso de diccionarios de comprension. La unica diferencia que tiene respecto a las listas o conjuntos de comprension es la especificacion de llaves o claves(key)."
      ]
    },
    {
      "cell_type": "code",
      "metadata": {
        "colab": {
          "base_uri": "https://localhost:8080/"
        },
        "id": "ZwjayRsRsXao",
        "outputId": "3b388fd3-ceb8-4d47-d9ec-327b036c51f9"
      },
      "source": [
        "lista1=['nombre', 'apellido', 'ciudad']\n",
        "lista2=['ana', 'rodriguez', 'popayan']\n",
        "\n",
        "dic={i:j for i,j in zip(lista1,lista2)}\n",
        "print(dic)"
      ],
      "execution_count": 4,
      "outputs": [
        {
          "output_type": "stream",
          "text": [
            "{'nombre': 'ana', 'apellido': 'rodriguez', 'ciudad': 'popayan'}\n"
          ],
          "name": "stdout"
        }
      ]
    },
    {
      "cell_type": "markdown",
      "metadata": {
        "id": "NX2O7xx5tb1B"
      },
      "source": [
        "Pudimos observar que añadiendo los dos puntos (:) asignamos un valor a la llave declarada, a su vez, usamos zip() el cual tiene como funcion iterar dos listas en paralelo. Es decir, con **zip** podemos convertir dos listas en un diccionario y el **for** se manejaria iterando los valores en simultaneo."
      ]
    },
    {
      "cell_type": "markdown",
      "metadata": {
        "id": "uYh4sVJHuHMQ"
      },
      "source": [
        "**OTRAS ESTRUCTURAS DE CONTROL**\n",
        "\n",
        "---\n",
        "1. Switch\n",
        "2. Break\n",
        "3. Continue\n",
        "4. Complemento de iteracion (Enumerate).\n",
        "\n",
        "**1. SWITCH**\n",
        "\n",
        "El switch es una herramienta que permite ejecutar diferentes secciones de codigo, dependiendo de las condiciones impuestas. Su funcion es similar a usar **if** anidados o varios por separado al mismo tiempo.\n",
        "\n",
        "Sin embargo  en Python no hay un switch directo. \n",
        "\n",
        "**2. Break**\n",
        "\n",
        "Nos permite alterar el comportamiento de los ciclos de **while** y **for**. Directamento su funcion es la de finalizar los ciclos.\n",
        "\n"
      ]
    },
    {
      "cell_type": "code",
      "metadata": {
        "colab": {
          "base_uri": "https://localhost:8080/"
        },
        "id": "uLqRvKjJviZD",
        "outputId": "eda871a0-e46c-4e8c-f62a-0ced2b785076"
      },
      "source": [
        "x=\"Andrea\"\n",
        "for i in x:\n",
        "  if i==\"e\":\n",
        "    print(\"Se obtuvo la leta e\")\n",
        "    break #para que pare la iteracion\n",
        "print(i)"
      ],
      "execution_count": 5,
      "outputs": [
        {
          "output_type": "stream",
          "text": [
            "Se obtuvo la leta e\n",
            "e\n"
          ],
          "name": "stdout"
        }
      ]
    },
    {
      "cell_type": "code",
      "metadata": {
        "colab": {
          "base_uri": "https://localhost:8080/"
        },
        "id": "gCAngD4wwptr",
        "outputId": "b1a6cd2f-3948-4823-c9bd-16e167d07c9b"
      },
      "source": [
        "x=15\n",
        "while True:\n",
        "  x -=1\n",
        "  print(x)\n",
        "  if x==0:\n",
        "    break\n",
        "  print(\"Se finalizo ciclo\")\n",
        "\n",
        "x=15\n",
        "while True:\n",
        "  x -=1\n",
        "  print(x)\n",
        "  if x==0:\n",
        "    break\n",
        "print(\"Se finalizo ciclo\")"
      ],
      "execution_count": 7,
      "outputs": [
        {
          "output_type": "stream",
          "text": [
            "14\n",
            "Se finalizo ciclo\n",
            "13\n",
            "Se finalizo ciclo\n",
            "12\n",
            "Se finalizo ciclo\n",
            "11\n",
            "Se finalizo ciclo\n",
            "10\n",
            "Se finalizo ciclo\n",
            "9\n",
            "Se finalizo ciclo\n",
            "8\n",
            "Se finalizo ciclo\n",
            "7\n",
            "Se finalizo ciclo\n",
            "6\n",
            "Se finalizo ciclo\n",
            "5\n",
            "Se finalizo ciclo\n",
            "4\n",
            "Se finalizo ciclo\n",
            "3\n",
            "Se finalizo ciclo\n",
            "2\n",
            "Se finalizo ciclo\n",
            "1\n",
            "Se finalizo ciclo\n",
            "0\n",
            "14\n",
            "13\n",
            "12\n",
            "11\n",
            "10\n",
            "9\n",
            "8\n",
            "7\n",
            "6\n",
            "5\n",
            "4\n",
            "3\n",
            "2\n",
            "1\n",
            "0\n",
            "Se finalizo ciclo\n"
          ],
          "name": "stdout"
        }
      ]
    }
  ]
}