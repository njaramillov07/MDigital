{
  "nbformat": 4,
  "nbformat_minor": 0,
  "metadata": {
    "colab": {
      "name": "Taller 1.ipynb",
      "provenance": [],
      "include_colab_link": true
    },
    "kernelspec": {
      "name": "python3",
      "display_name": "Python 3"
    },
    "language_info": {
      "name": "python"
    }
  },
  "cells": [
    {
      "cell_type": "markdown",
      "metadata": {
        "id": "view-in-github",
        "colab_type": "text"
      },
      "source": [
        "<a href=\"https://colab.research.google.com/github/njaramillov07/MDigital/blob/main/Taller_1.ipynb\" target=\"_parent\"><img src=\"https://colab.research.google.com/assets/colab-badge.svg\" alt=\"Open In Colab\"/></a>"
      ]
    },
    {
      "cell_type": "code",
      "metadata": {
        "id": "M5cvtWtnqoel",
        "colab": {
          "base_uri": "https://localhost:8080/"
        },
        "outputId": "5436dec6-b217-42f4-ca5a-e10819dd424f"
      },
      "source": [
        "tarea=4.5\n",
        "taller=4\n",
        "asistencia=5\n",
        "part=4\n",
        "\n",
        "nota1=tarea*0.1\n",
        "nota2=taller*0.25\n",
        "nota3=asistencia*0.05\n",
        "nota4=part*0.15\n",
        "\n",
        "notaparcial=nota1+nota2+nota3+nota4\n",
        "nota5=(3.7-notaparcial)/0.45\n",
        "print(\"para sacar minimo 3.7 en el curso, el estudiante debe sacar en el proyecto como minimo\", round(nota5,2))\n"
      ],
      "execution_count": null,
      "outputs": [
        {
          "output_type": "stream",
          "text": [
            "para sacar minimo 3.7 en el curso, el estudiante debe sacar en el proyecto como minimo 3.11\n"
          ],
          "name": "stdout"
        }
      ]
    },
    {
      "cell_type": "code",
      "metadata": {
        "colab": {
          "base_uri": "https://localhost:8080/"
        },
        "id": "q-85tUF7bZ6S",
        "outputId": "3d55e1da-2fbc-4363-e5a6-d8c02801e6a3"
      },
      "source": [
        "tarea=float(input(\"Nota de tarea\"))\n",
        "taller=float(input(\"Nota de talleres\"))\n",
        "asistencia=float(input(\"Nota de asistencia\"))\n",
        "part=float(input(\"Nota de participacion\"))\n",
        "\n",
        "nota1=tarea*0.1\n",
        "nota2=taller*0.25\n",
        "nota3=asistencia*0.05\n",
        "nota4=part*0.15\n",
        "\n",
        "notaparcial=nota1+nota2+nota3+nota4\n",
        "nota5=(3.7-notaparcial)/0.45\n",
        "print(\"para sacar minimo 3.7 en el curso, el estudiante debe sacar en el proyecto como minimo\", round(nota5,2))"
      ],
      "execution_count": null,
      "outputs": [
        {
          "output_type": "stream",
          "text": [
            "Nota de tarea4\n",
            "Nota de talleres5\n",
            "Nota de asistencia5\n",
            "Nota de participacion2\n",
            "para sacar minimo 3.7 en el curso, el estudiante debe sacar en el proyecto como minimo 3.33\n"
          ],
          "name": "stdout"
        }
      ]
    },
    {
      "cell_type": "code",
      "metadata": {
        "colab": {
          "base_uri": "https://localhost:8080/"
        },
        "id": "3DjtqC8vc8vW",
        "outputId": "851d1355-dc4f-471f-90ab-fa88b1bbef3e"
      },
      "source": [
        "tarea=float(input(\"Nota de tarea\"))\n",
        "taller=float(input(\"Nota de talleres\"))\n",
        "asistencia=float(input(\"Nota de asistencia\"))\n",
        "part=float(input(\"Nota de participacion\"))\n",
        "\n",
        "nota1=tarea*0.1\n",
        "nota2=taller*0.25\n",
        "nota3=asistencia*0.05\n",
        "nota4=part*0.15\n",
        "\n",
        "notaparcial=nota1+nota2+nota3+nota4\n",
        "nota5=(3.7-notaparcial)/0.45\n",
        "if nota5>=5.0:\n",
        "  print(\"Saco menos de 3.7 en el curso\")\n",
        "else:\n",
        "  print(\"para sacar minimo 3.7 en el curso, el estudiante debe sacar en el proyecto como minimo\", round(nota5,2))"
      ],
      "execution_count": null,
      "outputs": [
        {
          "output_type": "stream",
          "text": [
            "Nota de tarea1\n",
            "Nota de talleres2\n",
            "Nota de asistencia3\n",
            "Nota de participacion1\n",
            "Saco menos de 3.7 en el curso\n"
          ],
          "name": "stdout"
        }
      ]
    },
    {
      "cell_type": "code",
      "metadata": {
        "colab": {
          "base_uri": "https://localhost:8080/"
        },
        "id": "eATNwYzOepUV",
        "outputId": "f27d6b89-c284-4e90-9fc8-599778aff7b5"
      },
      "source": [
        "participante=input(\"Nombre del concursante:\")\n",
        "balota=input(\"Color de balota\")\n",
        "\n",
        "premio1=\"Viaje todo incluido para dos personas a San Andres\"\n",
        "premio2=\"Un pasadia a los termales de San Vicente incluyendo almuerzo\"\n",
        "premio3=\"Viaje todo incluido para dos personas a Santa Marta\"\n",
        "premio4=\"Pasadia al desierto de Tatacoa (sin incluir alimentacion)\"\n",
        "bono1=\"Dos boletas de cine 4D para la pelicula en estreno del mes - Incluye un solo combo de palomitas\"\n",
        "\n",
        "if balota==\"R\":\n",
        "  bono=int(1000000*0.15)\n",
        "  if bono<120000:\n",
        "    print(\"La empresa VIVAFLY se complace en anunciar que la participante\", participante, \"gano\", premio1)\n",
        "    print(\"y\", bono1, \"en nuestro sorteo de AMOR y AMISTAD\")\n",
        "  else:\n",
        "      print(\"La empresa VIVAFLY se complace en anunciar que la participante\", participante, \"gano\", premio1)\n",
        "      print(\"y un bono en efectivo por valor de\", bono, \"en nuestro sorteo de viajes de AMOR y AMISTAD\")\n",
        "\n",
        "elif balota==\"V\":\n",
        "  bono=int(1000000*0.2)\n",
        "  if bono<120000:\n",
        "    print(\"La empresa VIVAFLY se complace en anunciar que la participante\", participante, \"gano\", premio2)\n",
        "    print(\"y\", bono1, \"en nuestro sorteo de AMOR y AMISTAD\")\n",
        "  else:\n",
        "      print(\"La empresa VIVAFLY se complace en anunciar que la participante\", participante, \"gano\", premio2)\n",
        "      print(\"y un bono en efectivo por valor de\", bono, \"en nuestro sorteo de viajes de AMOR y AMISTAD\")\n",
        "\n",
        "elif balota==\"A\":\n",
        "  bono=int(1000000*0.05)\n",
        "  if bono<120000:\n",
        "    print(\"La empresa VIVAFLY se complace en anunciar que la participante\", participante, \"gano\", premio3)\n",
        "    print(\"y\", bono1, \"en nuestro sorteo de AMOR y AMISTAD\")\n",
        "  else:\n",
        "      print(\"La empresa VIVAFLY se complace en anunciar que la participante\", participante, \"gano\", premio3)\n",
        "      print(\"y un bono en efectivo por valor de\", bono, \"en nuestro sorteo de viajes de AMOR y AMISTAD\")\n",
        "\n",
        "elif balota==\"G\":\n",
        "  bono=int(1000000*0.2)\n",
        "  if bono<120000:\n",
        "    print(\"La empresa VIVAFLY se complace en anunciar que la participante\", participante, \"gano\", premio4)\n",
        "    print(\"y\", bono1, \"en nuestro sorteo de AMOR y AMISTAD\")\n",
        "  else:\n",
        "      print(\"La empresa VIVAFLY se complace en anunciar que la participante\", participante, \"gano\", premio4)\n",
        "      print(\"y un bono en efectivo por valor de\", bono, \"en nuestro sorteo de viajes de AMOR y AMISTAD\")\n",
        "\n",
        "else:\n",
        "  bono=int(120000)\n",
        "  print(\"La empresa VIVAFLY se complace en anunciar que la participante\", participante, \"gano un bono en efectivo por valor de\", bono, \"en nuestro sorteo de AMOR y AMISTAD\")"
      ],
      "execution_count": null,
      "outputs": [
        {
          "output_type": "stream",
          "text": [
            "Nombre del concursante:Natalia\n",
            "Color de balotaA\n",
            "La empresa VIVAFLY se complace en anunciar que la participante Natalia gano Viaje todo incluido para dos personas a Santa Marta\n",
            "y Dos boletas de cine 4D para la pelicula en estreno del mes - Incluye un solo combo de palomitas en nuestro sorteo de AMOR y AMISTAD\n"
          ],
          "name": "stdout"
        }
      ]
    },
    {
      "cell_type": "code",
      "metadata": {
        "id": "prZjJEjMlPzm",
        "colab": {
          "base_uri": "https://localhost:8080/"
        },
        "outputId": "6c4d4a6e-61fe-4656-9def-b7f583fd0526"
      },
      "source": [
        "participante=input(\"Nombre del concursante:\")\n",
        "balota=input(\"Color de balota\")\n",
        "valor=int(input(\"Valor bono general:\"))\n",
        "\n",
        "premio1=\"Viaje todo incluido para dos personas a San Andres\"\n",
        "premio2=\"Un pasadia a los termales de San Vicente incluyendo almuerzo\"\n",
        "premio3=\"Viaje todo incluido para dos personas a Santa Marta\"\n",
        "premio4=\"Pasadia al desierto de Tatacoa (sin incluir alimentacion)\"\n",
        "bono1=\"Dos boletas de cine 4D para la pelicula en estreno del mes - Incluye un solo combo de palomitas\"\n",
        "\n",
        "if balota==\"R\":\n",
        "  bono=int(valor*0.15)\n",
        "  if bono<120000:\n",
        "    print(\"La empresa VIVAFLY se complace en anunciar que la participante\", participante, \"gano\", premio1)\n",
        "    print(\"y\", bono1, \"en nuestro sorteo de AMOR y AMISTAD\")\n",
        "  else:\n",
        "      print(\"La empresa VIVAFLY se complace en anunciar que la participante\", participante, \"gano\", premio1)\n",
        "      print(\"y un bono en efectivo por valor de\", bono, \"en nuestro sorteo de viajes de AMOR y AMISTAD\")\n",
        "\n",
        "elif balota==\"V\":\n",
        "  bono=int(valor*0.2)\n",
        "  if bono<120000:\n",
        "    print(\"La empresa VIVAFLY se complace en anunciar que la participante\", participante, \"gano\", premio2)\n",
        "    print(\"y\", bono1, \"en nuestro sorteo de AMOR y AMISTAD\")\n",
        "  else:\n",
        "      print(\"La empresa VIVAFLY se complace en anunciar que la participante\", participante, \"gano\", premio2)\n",
        "      print(\"y un bono en efectivo por valor de\", bono, \"en nuestro sorteo de viajes de AMOR y AMISTAD\")\n",
        "\n",
        "elif balota==\"A\":\n",
        "  bono=int(valor*0.05)\n",
        "  if bono<120000:\n",
        "    print(\"La empresa VIVAFLY se complace en anunciar que la participante\", participante, \"gano\", premio3)\n",
        "    print(\"y\", bono1, \"en nuestro sorteo de AMOR y AMISTAD\")\n",
        "  else:\n",
        "      print(\"La empresa VIVAFLY se complace en anunciar que la participante\", participante, \"gano\", premio3)\n",
        "      print(\"y un bono en efectivo por valor de\", bono, \"en nuestro sorteo de viajes de AMOR y AMISTAD\")\n",
        "\n",
        "elif balota==\"G\":\n",
        "  bono=int(valor*0.2)\n",
        "  if bono<120000:\n",
        "    print(\"La empresa VIVAFLY se complace en anunciar que la participante\", participante, \"gano\", premio4)\n",
        "    print(\"y\", bono1, \"en nuestro sorteo de AMOR y AMISTAD\")\n",
        "  else:\n",
        "      print(\"La empresa VIVAFLY se complace en anunciar que la participante\", participante, \"gano\", premio4)\n",
        "      print(\"y un bono en efectivo por valor de\", bono, \"en nuestro sorteo de viajes de AMOR y AMISTAD\")\n",
        "\n",
        "else:\n",
        "  bono=int(120000)\n",
        "  print(\"La empresa VIVAFLY se complace en anunciar que la participante\", participante, \"gano un bono en efectivo por valor de\", bono, \"en nuestro sorteo de AMOR y AMISTAD\")\n",
        "\n",
        "  print(\"Adicionalmente la empresa va otorgar puntos a cada uno de los 5 clientes participantes en la premiacion para redimir un premio a futuro.\")\n",
        "  print(\"si el concursante cumple con al menos una de las siguientes preguntas se le otrogara puntos\".)\n",
        "\n",
        "  #PARAMETROS DE PUNTOS: Para las respuestas de las siguientes preguntas solo se admiten \"si\" y \"no\"\n",
        "  ant=input(\"La antiguedad del participante es mayor a 10 años?\")\n",
        "  ref=input(\"A referido a mas de 10 usuarios actuales?\")\n",
        "  lid=input(\"A sido lider en los programas de cooperacion de viajes internos?\")\n",
        "  valor=float(input(\"Ingrese el valor relacionado con puntos:\"))\n",
        "\n",
        "if ant==\"si\" and ref==\"si\" and lid==\"si\";\n",
        "  if valor*0.5>5000000;\n",
        "      puntos=500\n",
        "      print(\"Adicionalmente, la empresa otorgara\", int(puntos), \"puntos para redimir en un premio posterior\")\n",
        "  else \n",
        "      puntos=500\n",
        "      print(\"Adicionalmente, la empresa otorgara\", int(puntos), \"puntos para redimir en un premio posterior\")\n",
        "elif (ant==\"si\" and ref==\"si\" and lid==\"no\");\n",
        "   if valor*0.5>2500000;\n",
        "      puntos=200*0.2\n",
        "      print(\"Adicionalmente, la empresa otorgara\", int(puntos), \"puntos para redimir en un premio posterior\")\n",
        "  else \n",
        "      puntos=50*0.2\n",
        "      print(\"Adicionalmente, la empresa otorgara\", int(puntos), \"puntos para redimir en un premio posterior\")   \n",
        "\n",
        "elif (ant==\"si\" and ref==\"si\" and lid==\"no\");\n",
        "  if valor*0.5>2500000;\n",
        "      puntos=200*0.2\n",
        "      print(\"Adicionalmente, la empresa otorgara\", int(puntos), \"puntos para redimir en un premio posterior\")\n",
        "  else \n",
        "      puntos=50*0.2\n",
        "      print(\"Adicionalmente, la empresa otorgara\", int(puntos), \"puntos para redimir en un premio posterior\") \n"
      ],
      "execution_count": null,
      "outputs": [
        {
          "output_type": "stream",
          "text": [
            "Nombre del concursante:Natalia\n",
            "Color de balotaV\n",
            "Valor bono general:3000000\n",
            "La empresa VIVAFLY se complace en anunciar que la participante Natalia gano Un pasadia a los termales de San Vicente incluyendo almuerzo\n",
            "y un bono en efectivo por valor de 600000 en nuestro sorteo de viajes de AMOR y AMISTAD\n"
          ],
          "name": "stdout"
        }
      ]
    }
  ]
}