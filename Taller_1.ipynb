{
  "nbformat": 4,
  "nbformat_minor": 0,
  "metadata": {
    "colab": {
      "name": "Taller 1.ipynb",
      "provenance": [],
      "authorship_tag": "ABX9TyOfUPKKFBsymP56yAQWlcBl",
      "include_colab_link": true
    },
    "kernelspec": {
      "name": "python3",
      "display_name": "Python 3"
    },
    "language_info": {
      "name": "python"
    }
  },
  "cells": [
    {
      "cell_type": "markdown",
      "metadata": {
        "id": "view-in-github",
        "colab_type": "text"
      },
      "source": [
        "<a href=\"https://colab.research.google.com/github/njaramillov07/MDigital/blob/main/Taller_1.ipynb\" target=\"_parent\"><img src=\"https://colab.research.google.com/assets/colab-badge.svg\" alt=\"Open In Colab\"/></a>"
      ]
    },
    {
      "cell_type": "markdown",
      "metadata": {
        "id": "QbARw4XUzvJo"
      },
      "source": [
        "Colores Balotas:\n",
        "1. Rosado: 15%\n",
        "2. Verde: 20%\n",
        "3. Azul: 5%\n",
        "4. Gris: 20%\n",
        "5. Roja: 40%\n",
        "\n",
        "Puntos para redimir:\n",
        "\n",
        "1. Antigüedad >10 años = 50% sino 40% \n",
        "2. Referidos >10 usuarios = 30% sino 20% \n",
        "3. Liderazgo en los programas de cooperación de viajes internos=20% sino 10%\n",
        "\n"
      ]
    },
    {
      "cell_type": "code",
      "metadata": {
        "colab": {
          "base_uri": "https://localhost:8080/"
        },
        "id": "M5cvtWtnqoel",
        "outputId": "448789fe-0438-40f8-a2de-34d61a60030e"
      },
      "source": [
        "concursante=input(\"Nombre del consursante\")\n",
        "balota=input(\"color de la balota\")\n",
        "variable=input(\"valor cualquiera\")\n",
        "\n",
        "\n",
        "premio1=\"Viaje todo incluído para dos personas a San Andrés\"\n",
        "premio2=\"un pasadía a los termales de San Vicente incluyendo almuerzo\"\n",
        "premio3=\"Viaje todo incluido para dos personas a Santa Marta\"\n",
        "premio4=\"Pasadía al desierto de Tatacoa (Sin incluír alimentación\"\n",
        "bono=\"Dos boletas de cine 4D para la película en estreno del mes incluyendo un solo combo de palomitas\"\n",
        "puntos1=\"Puntos por antiguedad\"\n",
        "puntos2=\"Puntos por antiguedad referido\"\n",
        "puntos3=\"Puntos por liderazgo\"\n",
        "\n",
        "if balota==\"rosada\":\n",
        "  bono=int(1000000*0.15)\n",
        "  if bono<120000:\n",
        "    print(\"La empresa VIVAFLY se complace en anunciar que La participante\", concursante, \"ganó\", premio1)\n",
        "    print(\"y\", bono, \"en nuestro sorteo de viajes de AMOR y AMISTAD\")\n",
        "    print(\"adicionalmente\", puntos, \"puntos para redimir en un premio a futuro\")\n",
        "\n",
        "\n",
        "\n"
      ],
      "execution_count": 7,
      "outputs": [
        {
          "output_type": "stream",
          "text": [
            "Nombre del consursantenatalia\n",
            "color de la balotarosada\n",
            "valor cualquiera1000000\n"
          ],
          "name": "stdout"
        }
      ]
    }
  ]
}