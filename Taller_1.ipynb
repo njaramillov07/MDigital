{
  "nbformat": 4,
  "nbformat_minor": 0,
  "metadata": {
    "colab": {
      "name": "Taller 1.ipynb",
      "provenance": [],
      "authorship_tag": "ABX9TyNfhi+eHd8CX0xyaz0vVamQ",
      "include_colab_link": true
    },
    "kernelspec": {
      "name": "python3",
      "display_name": "Python 3"
    },
    "language_info": {
      "name": "python"
    }
  },
  "cells": [
    {
      "cell_type": "markdown",
      "metadata": {
        "id": "view-in-github",
        "colab_type": "text"
      },
      "source": [
        "<a href=\"https://colab.research.google.com/github/njaramillov07/MDigital/blob/main/Taller_1.ipynb\" target=\"_parent\"><img src=\"https://colab.research.google.com/assets/colab-badge.svg\" alt=\"Open In Colab\"/></a>"
      ]
    },
    {
      "cell_type": "markdown",
      "metadata": {
        "id": "QbARw4XUzvJo"
      },
      "source": [
        "Colores Balotas:\n",
        "1. Rosado: 15%\n",
        "2. Verde: 20%\n",
        "3. Azul: 5%\n",
        "4. Gris: 20%\n",
        "5. Roja: 40%\n",
        "\n",
        "Puntos para redimir:\n",
        "\n",
        "1. Antigüedad >10 años = 50% sino 40% \n",
        "2. Referidos >10 usuarios = 30% sino 20% \n",
        "3. Liderazgo en los programas de cooperación de viajes internos=20% sino 10%\n",
        "\n"
      ]
    },
    {
      "cell_type": "code",
      "metadata": {
        "colab": {
          "base_uri": "https://localhost:8080/",
          "height": 130
        },
        "id": "M5cvtWtnqoel",
        "outputId": "0ab4dd0c-4ae3-4e87-9e0d-cd15c58dac85"
      },
      "source": [
        "concursante=input(\"Nombre del consursante:\")\n",
        "balota=input(\"color de la balota:\")\n",
        "valor=int(input(\"valor bono:\"))\n",
        "num=int(\"Puntos:\")\n",
        "\n",
        "\n",
        "\n",
        "premio1=\"Viaje todo incluído para dos personas a San Andrés\" \n",
        "premio2=\"un pasadía a los termales de San Vicente incluyendo almuerzo\" \n",
        "premio3=\"Viaje todo incluido para dos personas a Santa Marta\" \n",
        "premio4=\"Pasadía al desierto de Tatacoa (Sin incluír alimentación\" \n",
        "bono1=\"Dos boletas de cine 4D para la película en estreno del mes incluyendo un solo combo de palomitas\"\n",
        "\n",
        "\n",
        "if balota==\"rosado\":\n",
        "  bono=int(valor*0.05)\n",
        "  if bono<120000:\n",
        "    if num>10:\n",
        "    print(\"La empresa VIVAFLY se complace en anunciar que La participante\", concursante, \"ganó\", premio1)\n",
        "    print(\"y\", bono1, \"en nuestro sorteo de viajes de AMOR y AMISTAD\")\n",
        "    print(\"y\", num, \"adicionalmente se le otorga 500 puntos para redimir en un premio a futuro\")\n",
        "\n",
        "else:\n",
        "      print(\"La empresa VIVAFLY se complace en anunciar que La participante\", concursante, \"ganó\", premio1)\n",
        "      print(\"y\", bono, \"en nuestro sorteo de viajes de AMOR y AMISTAD\")\n",
        "\n",
        "  \n",
        "\n",
        "\n",
        "\n",
        "\n",
        "\n"
      ],
      "execution_count": 35,
      "outputs": [
        {
          "output_type": "error",
          "ename": "IndentationError",
          "evalue": "ignored",
          "traceback": [
            "\u001b[0;36m  File \u001b[0;32m\"<ipython-input-35-6091d692060e>\"\u001b[0;36m, line \u001b[0;32m19\u001b[0m\n\u001b[0;31m    print(\"La empresa VIVAFLY se complace en anunciar que La participante\", concursante, \"ganó\", premio1)\u001b[0m\n\u001b[0m        ^\u001b[0m\n\u001b[0;31mIndentationError\u001b[0m\u001b[0;31m:\u001b[0m expected an indented block\n"
          ]
        }
      ]
    }
  ]
}