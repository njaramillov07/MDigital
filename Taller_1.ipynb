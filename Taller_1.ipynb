{
  "nbformat": 4,
  "nbformat_minor": 0,
  "metadata": {
    "colab": {
      "name": "Taller 1.ipynb",
      "provenance": [],
      "include_colab_link": true
    },
    "kernelspec": {
      "name": "python3",
      "display_name": "Python 3"
    },
    "language_info": {
      "name": "python"
    }
  },
  "cells": [
    {
      "cell_type": "markdown",
      "metadata": {
        "id": "view-in-github",
        "colab_type": "text"
      },
      "source": [
        "<a href=\"https://colab.research.google.com/github/njaramillov07/MDigital/blob/main/Taller_1.ipynb\" target=\"_parent\"><img src=\"https://colab.research.google.com/assets/colab-badge.svg\" alt=\"Open In Colab\"/></a>"
      ]
    },
    {
      "cell_type": "code",
      "metadata": {
        "id": "M5cvtWtnqoel",
        "outputId": "5436dec6-b217-42f4-ca5a-e10819dd424f",
        "colab": {
          "base_uri": "https://localhost:8080/"
        }
      },
      "source": [
        "tarea=4.5\n",
        "taller=4\n",
        "asistencia=5\n",
        "part=4\n",
        "\n",
        "nota1=tarea*0.1\n",
        "nota2=taller*0.25\n",
        "nota3=asistencia*0.05\n",
        "nota4=part*0.15\n",
        "\n",
        "notaparcial=nota1+nota2+nota3+nota4\n",
        "nota5=(3.7-notaparcial)/0.45\n",
        "print(\"para sacar minimo 3.7 en el curso, el estudiante debe sacar en el proyecto como minimo\", round(nota5,2))\n"
      ],
      "execution_count": 4,
      "outputs": [
        {
          "output_type": "stream",
          "text": [
            "para sacar minimo 3.7 en el curso, el estudiante debe sacar en el proyecto como minimo 3.11\n"
          ],
          "name": "stdout"
        }
      ]
    },
    {
      "cell_type": "code",
      "metadata": {
        "id": "q-85tUF7bZ6S",
        "outputId": "3d55e1da-2fbc-4363-e5a6-d8c02801e6a3",
        "colab": {
          "base_uri": "https://localhost:8080/"
        }
      },
      "source": [
        "tarea=float(input(\"Nota de tarea\"))\n",
        "taller=float(input(\"Nota de talleres\"))\n",
        "asistencia=float(input(\"Nota de asistencia\"))\n",
        "part=float(input(\"Nota de participacion\"))\n",
        "\n",
        "nota1=tarea*0.1\n",
        "nota2=taller*0.25\n",
        "nota3=asistencia*0.05\n",
        "nota4=part*0.15\n",
        "\n",
        "notaparcial=nota1+nota2+nota3+nota4\n",
        "nota5=(3.7-notaparcial)/0.45\n",
        "print(\"para sacar minimo 3.7 en el curso, el estudiante debe sacar en el proyecto como minimo\", round(nota5,2))"
      ],
      "execution_count": 6,
      "outputs": [
        {
          "output_type": "stream",
          "text": [
            "Nota de tarea4\n",
            "Nota de talleres5\n",
            "Nota de asistencia5\n",
            "Nota de participacion2\n",
            "para sacar minimo 3.7 en el curso, el estudiante debe sacar en el proyecto como minimo 3.33\n"
          ],
          "name": "stdout"
        }
      ]
    },
    {
      "cell_type": "code",
      "metadata": {
        "id": "3DjtqC8vc8vW",
        "outputId": "851d1355-dc4f-471f-90ab-fa88b1bbef3e",
        "colab": {
          "base_uri": "https://localhost:8080/"
        }
      },
      "source": [
        "tarea=float(input(\"Nota de tarea\"))\n",
        "taller=float(input(\"Nota de talleres\"))\n",
        "asistencia=float(input(\"Nota de asistencia\"))\n",
        "part=float(input(\"Nota de participacion\"))\n",
        "\n",
        "nota1=tarea*0.1\n",
        "nota2=taller*0.25\n",
        "nota3=asistencia*0.05\n",
        "nota4=part*0.15\n",
        "\n",
        "notaparcial=nota1+nota2+nota3+nota4\n",
        "nota5=(3.7-notaparcial)/0.45\n",
        "if nota5>=5.0:\n",
        "  print(\"Saco menos de 3.7 en el curso\")\n",
        "else:\n",
        "  print(\"para sacar minimo 3.7 en el curso, el estudiante debe sacar en el proyecto como minimo\", round(nota5,2))"
      ],
      "execution_count": 8,
      "outputs": [
        {
          "output_type": "stream",
          "text": [
            "Nota de tarea1\n",
            "Nota de talleres2\n",
            "Nota de asistencia3\n",
            "Nota de participacion1\n",
            "Saco menos de 3.7 en el curso\n"
          ],
          "name": "stdout"
        }
      ]
    }
  ]
}