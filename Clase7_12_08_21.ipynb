{
  "nbformat": 4,
  "nbformat_minor": 0,
  "metadata": {
    "colab": {
      "name": "Clase7 12/08/21.ipynb",
      "provenance": [],
      "authorship_tag": "ABX9TyOtHPS1fexyMK70Z1H0fEr7",
      "include_colab_link": true
    },
    "kernelspec": {
      "name": "python3",
      "display_name": "Python 3"
    },
    "language_info": {
      "name": "python"
    }
  },
  "cells": [
    {
      "cell_type": "markdown",
      "metadata": {
        "id": "view-in-github",
        "colab_type": "text"
      },
      "source": [
        "<a href=\"https://colab.research.google.com/github/njaramillov07/MDigital/blob/main/Clase7_12_08_21.ipynb\" target=\"_parent\"><img src=\"https://colab.research.google.com/assets/colab-badge.svg\" alt=\"Open In Colab\"/></a>"
      ]
    },
    {
      "cell_type": "markdown",
      "metadata": {
        "id": "8XTwgpi7rXWn"
      },
      "source": [
        "**Continuacion de Funciones**\n",
        "\n",
        "---\n",
        "\n",
        "\n"
      ]
    },
    {
      "cell_type": "code",
      "metadata": {
        "colab": {
          "base_uri": "https://localhost:8080/"
        },
        "id": "y9OWZWP0rOJc",
        "outputId": "537f298f-9c35-4fe8-dabd-85a2243735e4"
      },
      "source": [
        "##Recordamos el ejercio de la clase pasada:\n",
        "\n",
        "def suma(a=2,b=3, c=4, d=5):\n",
        "  return a+b+c+d\n",
        "suma()\n",
        "\n",
        "suma(1)\n",
        "suma(1,5)\n",
        "suma(a=1, c=5)"
      ],
      "execution_count": 2,
      "outputs": [
        {
          "output_type": "execute_result",
          "data": {
            "text/plain": [
              "14"
            ]
          },
          "metadata": {},
          "execution_count": 2
        }
      ]
    },
    {
      "cell_type": "code",
      "metadata": {
        "colab": {
          "base_uri": "https://localhost:8080/"
        },
        "id": "uSzGJJSwv8aq",
        "outputId": "60dadc36-c789-4a94-c382-82e17cb5219a"
      },
      "source": [
        "def suma(number):\n",
        "  total=0\n",
        "  for i in number:\n",
        "    total +=i ##+= - manera ordenada; -= manera inversa\n",
        "  return total\n",
        "suma([1,3,5,4])"
      ],
      "execution_count": 3,
      "outputs": [
        {
          "output_type": "execute_result",
          "data": {
            "text/plain": [
              "13"
            ]
          },
          "metadata": {},
          "execution_count": 3
        }
      ]
    },
    {
      "cell_type": "code",
      "metadata": {
        "colab": {
          "base_uri": "https://localhost:8080/"
        },
        "id": "5Gcgsi52wKDO",
        "outputId": "435bccfe-bc14-4116-993a-2574b8f1871b"
      },
      "source": [
        "def suma(*number):\n",
        "  print(type(number))\n",
        "  total=0\n",
        "  for i in number:\n",
        "    total +=i\n",
        "  return total\n",
        "suma(2,3,5,4)"
      ],
      "execution_count": 4,
      "outputs": [
        {
          "output_type": "stream",
          "name": "stdout",
          "text": [
            "<class 'tuple'>\n"
          ]
        },
        {
          "output_type": "execute_result",
          "data": {
            "text/plain": [
              "14"
            ]
          },
          "metadata": {},
          "execution_count": 4
        }
      ]
    },
    {
      "cell_type": "code",
      "metadata": {
        "colab": {
          "base_uri": "https://localhost:8080/"
        },
        "id": "Vlppw4B3wxFw",
        "outputId": "9e99edb0-9242-4d80-b90e-11d14b63e892"
      },
      "source": [
        "suma(2)\n",
        "suma(1,2) #Al realizar el cambio y/o edicion de la funcion suma que veniamos usando se puede añadir en elementos para iterar la funcion definida."
      ],
      "execution_count": 6,
      "outputs": [
        {
          "output_type": "stream",
          "name": "stdout",
          "text": [
            "<class 'tuple'>\n",
            "<class 'tuple'>\n"
          ]
        },
        {
          "output_type": "execute_result",
          "data": {
            "text/plain": [
              "3"
            ]
          },
          "metadata": {},
          "execution_count": 6
        }
      ]
    },
    {
      "cell_type": "markdown",
      "metadata": {
        "id": "1tuNzMdCyBXN"
      },
      "source": [
        "Uso de doble **\n",
        "\n",
        "---\n",
        "El uso de doble ** nos permite tener como parametro de entrada una lista de elementos en forma de clase y valor. La forma de iterar sera usando el comando *item()*.\n"
      ]
    },
    {
      "cell_type": "code",
      "metadata": {
        "colab": {
          "base_uri": "https://localhost:8080/"
        },
        "id": "9TueDcJqy-PL",
        "outputId": "087e3635-73ba-4206-f1d1-1f8654bd9041"
      },
      "source": [
        "def suma(**dado):\n",
        "  suma=0;\n",
        "  for i,j in dado.items():\n",
        "    suma +=j\n",
        "  return suma\n",
        "\n",
        "suma(a=3, b=30, c=7)"
      ],
      "execution_count": 7,
      "outputs": [
        {
          "output_type": "execute_result",
          "data": {
            "text/plain": [
              "40"
            ]
          },
          "metadata": {},
          "execution_count": 7
        }
      ]
    },
    {
      "cell_type": "markdown",
      "metadata": {
        "id": "hN9vGvmZ0FBG"
      },
      "source": [
        "**Ampliemos la definicion del comando *Return***\n",
        "\n",
        "\n",
        "---\n",
        "1. Devolver parametros.\n"
      ]
    },
    {
      "cell_type": "code",
      "metadata": {
        "colab": {
          "base_uri": "https://localhost:8080/",
          "height": 35
        },
        "id": "yuaDYM8U0etN",
        "outputId": "40acb9f3-4143-4caa-89f0-d9d304fb2fa1"
      },
      "source": [
        "def w():\n",
        "  return \"Hi\"\n",
        "w()"
      ],
      "execution_count": 8,
      "outputs": [
        {
          "output_type": "execute_result",
          "data": {
            "application/vnd.google.colaboratory.intrinsic+json": {
              "type": "string"
            },
            "text/plain": [
              "'Hi'"
            ]
          },
          "metadata": {},
          "execution_count": 8
        }
      ]
    },
    {
      "cell_type": "markdown",
      "metadata": {
        "id": "qCXDw66m0xfl"
      },
      "source": [
        "2. Devolver varias variables"
      ]
    },
    {
      "cell_type": "code",
      "metadata": {
        "colab": {
          "base_uri": "https://localhost:8080/"
        },
        "id": "hzsAOm_9xndq",
        "outputId": "347688b7-1eee-497e-ebaa-5d6442a1175a"
      },
      "source": [
        "def sd(a,b,c):\n",
        "  q=a+b+c #declaracion de variable con una suma de argumentos\n",
        "  z=q/3   #declaracion de variable con el promedio\n",
        "  return q,z\n",
        "q,z=sd(2,4,6)\n",
        "print(q)\n",
        "print(z)"
      ],
      "execution_count": 9,
      "outputs": [
        {
          "output_type": "stream",
          "name": "stdout",
          "text": [
            "12\n",
            "4.0\n"
          ]
        }
      ]
    },
    {
      "cell_type": "markdown",
      "metadata": {
        "id": "R5JH0DaJ3dJi"
      },
      "source": [
        "**Formas de hacer documentacion en programacion y por bloques de codigo o linea**\n",
        "\n",
        "---"
      ]
    },
    {
      "cell_type": "code",
      "metadata": {
        "colab": {
          "base_uri": "https://localhost:8080/"
        },
        "id": "0am0S_853yny",
        "outputId": "f245d55a-db00-4bc2-a77e-bd083b711764"
      },
      "source": [
        "def paula(a,b):\n",
        "  \"\"\"\n",
        "  Descripcion de la funcion, los parametros que se van a usar, explicar como se usa y que operaciones devuelve esa funcion.(docstring)\n",
        "  \"\"\"\n",
        "  return a+b\n",
        "paula(2,3)"
      ],
      "execution_count": 10,
      "outputs": [
        {
          "output_type": "execute_result",
          "data": {
            "text/plain": [
              "5"
            ]
          },
          "metadata": {},
          "execution_count": 10
        }
      ]
    },
    {
      "cell_type": "code",
      "metadata": {
        "colab": {
          "base_uri": "https://localhost:8080/"
        },
        "id": "kv1r0aYO4s4-",
        "outputId": "2dbae10f-14ff-46e9-a7c4-35104ce628d0"
      },
      "source": [
        "help(paula)"
      ],
      "execution_count": 11,
      "outputs": [
        {
          "output_type": "stream",
          "name": "stdout",
          "text": [
            "Help on function paula in module __main__:\n",
            "\n",
            "paula(a, b)\n",
            "    Descripcion de la funcion, los parametros que se van a usar, explicar como se usa y que operaciones devuelve esa funcion.(docstring)\n",
            "\n"
          ]
        }
      ]
    },
    {
      "cell_type": "code",
      "metadata": {
        "colab": {
          "base_uri": "https://localhost:8080/"
        },
        "id": "zKpZVkrm_Rxp",
        "outputId": "472f9d8b-35aa-4b06-f94d-f5b3d43b845a"
      },
      "source": [
        "print(paula.__doc__) #Otra forma de llamar el comentario es print del nombre de la funcion seguido de punto seguido, doble guion bajo, escribir \"doc\" y seguido doble guion bajo"
      ],
      "execution_count": 14,
      "outputs": [
        {
          "output_type": "stream",
          "name": "stdout",
          "text": [
            "\n",
            "  Descripcion de la funcion, los parametros que se van a usar, explicar como se usa y que operaciones devuelve esa funcion.(docstring)\n",
            "  \n"
          ]
        }
      ]
    },
    {
      "cell_type": "markdown",
      "metadata": {
        "id": "VVzUK6eqAGQO"
      },
      "source": [
        "**Diferencia entre valores y referencias**\n",
        "\n",
        "---\n",
        "Existen dos conceptos de paso por *valor* y por *referencia* que se aplica a la hora de tratar a los parametros de entrada de una funcion:\n",
        "\n",
        "1. Si se usa una parametro que pasa por valor, se crea una copia local de la variable, lo cual implica que cualquier modificacion sobre esta no tendra repercusiones sobre la base original.\n",
        "\n",
        "2. Si la variable pasa como referencia, si actuara directamente sobre la base original. "
      ]
    },
    {
      "cell_type": "code",
      "metadata": {
        "colab": {
          "base_uri": "https://localhost:8080/"
        },
        "id": "v2VbzBipB8s6",
        "outputId": "e819b344-29c6-4506-b79b-f075f5649a70"
      },
      "source": [
        "#Ejemplo de paso por **valor**\n",
        "\n",
        "x=3\n",
        "def funcion(w):\n",
        "  w=0\n",
        "funcion(x)\n",
        "print(x)"
      ],
      "execution_count": 16,
      "outputs": [
        {
          "output_type": "stream",
          "name": "stdout",
          "text": [
            "3\n"
          ]
        }
      ]
    },
    {
      "cell_type": "markdown",
      "metadata": {
        "id": "Jr4h48YgCxLt"
      },
      "source": [
        "1. Inicio con x=3\n",
        "2. se lo pasamos a la funcion()\n",
        "3. Dentro de esta funcion hacemos que la variable valga cero.\n",
        "4. Dado que pasa como valor, dentro de la funcion se crea una copia local de x. Por lo cual, la variable original no se modifica."
      ]
    },
    {
      "cell_type": "code",
      "metadata": {
        "colab": {
          "base_uri": "https://localhost:8080/"
        },
        "id": "-GHOz9meDbsY",
        "outputId": "0912be9f-571e-4a90-a61e-3ffb11c472d1"
      },
      "source": [
        "##Caso que pasa por **Referencia**\n",
        "\n",
        "x=[3,6,9,12]\n",
        "def sw(tipo):\n",
        "  tipo.append(50) #append adicionar valores a la lista o diccionarios, tuplas no aplica.\n",
        "sw(x)\n",
        "print(x)"
      ],
      "execution_count": 17,
      "outputs": [
        {
          "output_type": "stream",
          "name": "stdout",
          "text": [
            "[3, 6, 9, 12, 50]\n"
          ]
        }
      ]
    },
    {
      "cell_type": "markdown",
      "metadata": {
        "id": "NnEky12-SDAY"
      },
      "source": [
        "**Tipos de Funciones**\n",
        "\n",
        "---\n",
        "1. Funcion Lambda\n",
        "\n",
        "---\n",
        "Son funciones que normalmente se usan para definir el codigo en una sola linea.\n",
        "\n",
        "\n",
        "\n"
      ]
    },
    {
      "cell_type": "code",
      "metadata": {
        "colab": {
          "base_uri": "https://localhost:8080/"
        },
        "id": "rosi5SgWTeUF",
        "outputId": "ec2b4e61-feff-424a-956f-d8c3f037c640"
      },
      "source": [
        "#Lo   ue normalmente seria la definicion de la funcion de este estilo:\n",
        "#def suma(a,b,c,d):\n",
        "  #return a+b+c+d\n",
        "\n",
        "#Se puede escribir de la siguiente manera:\n",
        "\n",
        "lambda a,b,c,d: a+b+c+d\n",
        "\n",
        "(lambda a,b,c,d: a+b+c+d)(1,2,3,4)"
      ],
      "execution_count": 20,
      "outputs": [
        {
          "output_type": "execute_result",
          "data": {
            "text/plain": [
              "10"
            ]
          },
          "metadata": {},
          "execution_count": 20
        }
      ]
    },
    {
      "cell_type": "code",
      "metadata": {
        "colab": {
          "base_uri": "https://localhost:8080/"
        },
        "id": "5HS_lZ89W8_s",
        "outputId": "40a58103-b161-4f6b-bd0e-6d9f887ad735"
      },
      "source": [
        "(lambda *number:sum(number))(1,4,5,5,6,7,8)"
      ],
      "execution_count": 22,
      "outputs": [
        {
          "output_type": "execute_result",
          "data": {
            "text/plain": [
              "36"
            ]
          },
          "metadata": {},
          "execution_count": 22
        }
      ]
    },
    {
      "cell_type": "code",
      "metadata": {
        "colab": {
          "base_uri": "https://localhost:8080/"
        },
        "id": "l9Jcw_NDX51h",
        "outputId": "b48702e9-63f0-479b-8223-a9c5bb8c4470"
      },
      "source": [
        "(lambda **number:sum(number.values()))(a=1, b=4, c=10)"
      ],
      "execution_count": 24,
      "outputs": [
        {
          "output_type": "execute_result",
          "data": {
            "text/plain": [
              "15"
            ]
          },
          "metadata": {},
          "execution_count": 24
        }
      ]
    },
    {
      "cell_type": "code",
      "metadata": {
        "colab": {
          "base_uri": "https://localhost:8080/"
        },
        "id": "2ATIddb4YT6y",
        "outputId": "efae2dd0-29f4-4e03-8ad9-a2a5daaf3db4"
      },
      "source": [
        "luisa=lambda a,b,c,d:(a,b,c,d)\n",
        "print(luisa(2,5,7,9))\n",
        "\n",
        "luisa=lambda a,b,c,d:a+b+c+d\n",
        "print(luisa(2,5,7,9))"
      ],
      "execution_count": 26,
      "outputs": [
        {
          "output_type": "stream",
          "name": "stdout",
          "text": [
            "(2, 5, 7, 9)\n",
            "23\n"
          ]
        }
      ]
    },
    {
      "cell_type": "markdown",
      "metadata": {
        "id": "0PuonXZCZZbo"
      },
      "source": [
        "**RECURSIVIDAD**\n",
        "\n",
        "---\n",
        "Las caracteristicas de una funcion recursiva son las siguientes:\n",
        "1. Seccion en que se llama asi misma. \n",
        "2. Seccion del bloque de codigo donde este la condicion que implique retornar sin volver a llamarse. (IMPORTANTE)\n",
        "\n",
        "Los ejemplos tradicionales de **recursividad** son la aplicacion de **calculo factorial** y la **serie de fibonacci**.\n",
        "\n",
        "1. **Calculo Factorial**\n",
        "\n",
        "En matematicas definimos factorial (nl) como la multiplicacion de todos sus numeros predecedores hasta llegar a uno.\n",
        "\n",
        "Ejemplo:\n",
        "\n",
        "5! = 5*4*3*2*1\n",
        "100!= 100*99*98*97*.......*1\n"
      ]
    },
    {
      "cell_type": "code",
      "metadata": {
        "colab": {
          "base_uri": "https://localhost:8080/"
        },
        "id": "ZxTyUUE-bMDD",
        "outputId": "f8254568-af6f-4643-cd40-3d11052720e5"
      },
      "source": [
        "#apliquemos un enfono no recursivo de calculo factorial:\n",
        "\n",
        "def factorial(n):\n",
        "  w=1\n",
        "  i=2\n",
        "  while i<=n:\n",
        "    w *=i\n",
        "    i +=1\n",
        "  return w\n",
        "factorial(5)"
      ],
      "execution_count": 28,
      "outputs": [
        {
          "output_type": "execute_result",
          "data": {
            "text/plain": [
              "120"
            ]
          },
          "metadata": {},
          "execution_count": 28
        }
      ]
    },
    {
      "cell_type": "code",
      "metadata": {
        "colab": {
          "base_uri": "https://localhost:8080/"
        },
        "id": "hLoYwwy3cdFw",
        "outputId": "ac4f8e34-e4a0-4798-b67f-7eee0c27d3b7"
      },
      "source": [
        "#Definamos factorial recursivo:\n",
        "\n",
        "def recursivofac(n):\n",
        "  if n==1:\n",
        "    return 1 \n",
        "  else:\n",
        "    return n*recursivofac(n-1)\n",
        "recursivofac(10)"
      ],
      "execution_count": 32,
      "outputs": [
        {
          "output_type": "execute_result",
          "data": {
            "text/plain": [
              "3628800"
            ]
          },
          "metadata": {},
          "execution_count": 32
        }
      ]
    },
    {
      "cell_type": "markdown",
      "metadata": {
        "id": "e0Jfpp2qeVgu"
      },
      "source": [
        "A continuacion complementamos los tipos de generadores:\n",
        "\n",
        "1. Return\n",
        "2. Yield"
      ]
    },
    {
      "cell_type": "code",
      "metadata": {
        "colab": {
          "base_uri": "https://localhost:8080/"
        },
        "id": "IjnDx4-neqtI",
        "outputId": "60726cd8-3105-47c6-8703-22ab3d1fad86"
      },
      "source": [
        "def s():\n",
        "  return 4\n",
        "s()"
      ],
      "execution_count": 33,
      "outputs": [
        {
          "output_type": "execute_result",
          "data": {
            "text/plain": [
              "4"
            ]
          },
          "metadata": {},
          "execution_count": 33
        }
      ]
    },
    {
      "cell_type": "code",
      "metadata": {
        "colab": {
          "base_uri": "https://localhost:8080/"
        },
        "id": "zC0CULWgeyei",
        "outputId": "712141d2-22e0-4b7d-b09e-21bffe1ba83d"
      },
      "source": [
        "def s():\n",
        "  yield 4\n",
        "s()"
      ],
      "execution_count": 34,
      "outputs": [
        {
          "output_type": "execute_result",
          "data": {
            "text/plain": [
              "<generator object s at 0x7f3fb7e85c50>"
            ]
          },
          "metadata": {},
          "execution_count": 34
        }
      ]
    },
    {
      "cell_type": "markdown",
      "metadata": {
        "id": "OGk5yA0ve-Ih"
      },
      "source": [
        "Cuando usamos el **return** nos devuelve el numero 4, pero cuando usamos el **yield** lo que devuelve es un objeto de clase (generador).\n",
        "\n"
      ]
    }
  ]
}